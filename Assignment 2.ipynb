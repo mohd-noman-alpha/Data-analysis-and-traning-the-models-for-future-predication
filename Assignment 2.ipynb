{
 "cells": [
  {
   "cell_type": "code",
   "execution_count": 1,
   "id": "02bb4cea-784e-4e12-aa49-5f289560b22a",
   "metadata": {},
   "outputs": [
    {
     "name": "stdout",
     "output_type": "stream",
     "text": [
      "Mean durability: 1.24 million characters\n",
      "Median durability: 1.25 million characters\n",
      "Standard deviation: 0.19 million characters\n"
     ]
    }
   ],
   "source": [
    "#  A total of 15 print-heads were randomly selected and tested until failure. \n",
    "#The durability of each print-head (in millions of characters) was recorded as follows:\n",
    "# 1.13, 1.55, 1.43, 0.92, 1.25, 1.36, 1.32, 0.85, 1.07, 1.48, 1.20, 1.33, 1.18, 1.22, 1.29\n",
    "\n",
    "import numpy as np\n",
    "\n",
    "data = [1.13, 1.55, 1.43, 0.92, 1.25, 1.36, 1.32, 0.85, 1.07, 1.48, 1.20, 1.33, 1.18, 1.22, 1.29]\n",
    "\n",
    "\n",
    "\n",
    "# Calculate the mean\n",
    "mean = np.mean(data)\n",
    "print(f\"Mean durability: {mean:.2f} million characters\")\n",
    "\n",
    "# Calculate the median\n",
    "median = np.median(data)\n",
    "print(f\"Median durability: {median:.2f} million characters\")\n",
    "\n",
    "# Calculate the standard deviation\n",
    "std_dev = np.std(data)\n",
    "print(f\"Standard deviation: {std_dev:.2f} million characters\")"
   ]
  },
  {
   "cell_type": "code",
   "execution_count": 3,
   "id": "30dab6c4-c75e-4fe7-9538-7844addae9ff",
   "metadata": {},
   "outputs": [
    {
     "name": "stdout",
     "output_type": "stream",
     "text": [
      "99% Confidence Interval: (1.09, 1.39) million characters\n"
     ]
    }
   ],
   "source": [
    "#TASK A\n",
    "# A Build 99% Confidence Interval Using Sample Standard Deviation\n",
    "\n",
    "import numpy as np\n",
    "from scipy.stats import t\n",
    "\n",
    "# Data (from our previous step)\n",
    "data = [1.13, 1.55, 1.43, 0.92, 1.25, 1.36, 1.32, 0.85, 1.07, 1.48, 1.20, 1.33, 1.18, 1.22, 1.29]\n",
    "\n",
    "# Sample statistics\n",
    "sample_mean = np.mean(data)\n",
    "sample_std = np.std(data, ddof=1)  # Use ddof=1 for sample standard deviation\n",
    "n = len(data)\n",
    "\n",
    "# Confidence level\n",
    "confidence_level = 0.99\n",
    "\n",
    "# Degrees of freedom\n",
    "df = n - 1\n",
    "\n",
    "# Finding  the critical t-value\n",
    "t_critical = t.ppf((1 + confidence_level) / 2, df)\n",
    "\n",
    "# Calculating the margin of error\n",
    "margin_of_error = t_critical * (sample_std / np.sqrt(n))\n",
    "\n",
    "# Calculating the confidence interval\n",
    "lower_bound = sample_mean - margin_of_error\n",
    "upper_bound = sample_mean + margin_of_error\n",
    "\n",
    "print(f\"99% Confidence Interval: ({lower_bound:.2f}, {upper_bound:.2f}) million characters\")\n",
    "\n",
    "\n",
    "# Explanation:\n",
    "# 1. We use the t-distribution because the population standard deviation is unknown and we are using the sample standard deviation as an estimate.\n",
    "# 2. The t-distribution has heavier tails than the normal distribution, which accounts for the increased uncertainty when estimating the population mean from a sample.\n",
    "# 3. We calculate the critical t-value using the scipy.stats.t.ppf function, which gives the t-value corresponding to a specific probability and degrees of freedom.\n",
    "# 4. The margin of error is calculated as the product of the critical t-value and the standard error of the mean (sample standard deviation divided by the square root of the sample size).\n",
    "# 5. The confidence interval is then constructed by adding and subtracting the margin of error from the sample mean.\n"
   ]
  },
  {
   "cell_type": "code",
   "execution_count": 5,
   "id": "0e2942a9-93d5-4d35-9d02-fd7ca66b284f",
   "metadata": {},
   "outputs": [
    {
     "name": "stdout",
     "output_type": "stream",
     "text": [
      "99% Confidence Interval (Known Population Standard Deviation): (1.11, 1.37) million characters\n"
     ]
    }
   ],
   "source": [
    "#TASK B\n",
    "# B. Build 99% Confidence Interval Using Known Population Standard Deviation\n",
    "\n",
    "\n",
    "import numpy as np\n",
    "from scipy.stats import norm\n",
    "\n",
    "data = [1.13, 1.55, 1.43, 0.92, 1.25, 1.36, 1.32, 0.85, 1.07, 1.48, 1.20, 1.33, 1.18, 1.22, 1.29]\n",
    "\n",
    "# Calculate the sample mean\n",
    "mean = np.mean(data)\n",
    "\n",
    "# Known population standard deviation\n",
    "population_std_dev = 0.2\n",
    "\n",
    "# Calculate the sample size\n",
    "n = len(data)\n",
    "\n",
    "# Calculate the z-critical value for a 99% confidence interval\n",
    "alpha = 0.01  # Significance level (1 - confidence level)\n",
    "z_critical = norm.ppf(1 - alpha / 2)\n",
    "\n",
    "# Calculate the margin of error\n",
    "margin_of_error = z_critical * (population_std_dev / np.sqrt(n))\n",
    "\n",
    "# Calculate the confidence interval\n",
    "confidence_interval = (mean - margin_of_error, mean + margin_of_error)\n",
    "\n",
    "print(f\"99% Confidence Interval (Known Population Standard Deviation): ({confidence_interval[0]:.2f}, {confidence_interval[1]:.2f}) million characters\")\n",
    "\n",
    "# Explanation:\n",
    "\n",
    "# 1. We use the z-distribution because we know the population standard deviation.\n",
    "# 2. The z-distribution is a standard normal distribution.\n",
    "# 3. We calculate the z-critical value using the desired confidence level (99%).\n",
    "# 4. We then calculate the margin of error, which represents the range around the sample mean within which we are confident\n",
    "#    the true population mean lies.\n",
    "# 5. Finally, we construct the confidence interval by adding and subtracting the margin of error from the sample mean.\n",
    "# 6. The resulting interval provides a range of plausible values for the population mean with a 99% level of confidence."
   ]
  },
  {
   "cell_type": "code",
   "execution_count": null,
   "id": "30a4b444-67e5-4116-98e9-edcbed9b1bd9",
   "metadata": {},
   "outputs": [],
   "source": []
  }
 ],
 "metadata": {
  "kernelspec": {
   "display_name": "Python 3 (ipykernel)",
   "language": "python",
   "name": "python3"
  },
  "language_info": {
   "codemirror_mode": {
    "name": "ipython",
    "version": 3
   },
   "file_extension": ".py",
   "mimetype": "text/x-python",
   "name": "python",
   "nbconvert_exporter": "python",
   "pygments_lexer": "ipython3",
   "version": "3.12.4"
  }
 },
 "nbformat": 4,
 "nbformat_minor": 5
}
