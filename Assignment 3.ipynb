{
 "cells": [
  {
   "cell_type": "code",
   "execution_count": 7,
   "id": "2ecd9333-95fa-46b1-aa31-e6944a583ad4",
   "metadata": {},
   "outputs": [
    {
     "name": "stdin",
     "output_type": "stream",
     "text": [
      "Enter a number:  7\n"
     ]
    },
    {
     "name": "stdout",
     "output_type": "stream",
     "text": [
      "7 is a prime number.\n"
     ]
    }
   ],
   "source": [
    "# Exercise 1: Prime Numbers\n",
    "\n",
    "def is_prime(number):\n",
    "  \n",
    "  if number <= 1:\n",
    "    return False\n",
    "  for i in range(2, int(number**0.5) + 1):\n",
    "    if number % i == 0:\n",
    "      return False\n",
    "  return True\n",
    "\n",
    "# Get input from the user\n",
    "num = int(input(\"Enter a number: \"))\n",
    "\n",
    "# Check if the number is prime and print the result\n",
    "if is_prime(num):\n",
    "  print(num, \"is a prime number.\")\n",
    "else:\n",
    "  print(num, \"is not a prime number.\")"
   ]
  },
  {
   "cell_type": "code",
   "execution_count": 3,
   "id": "d6f9c23f-a222-439c-a1d2-da577dffa6d1",
   "metadata": {},
   "outputs": [
    {
     "name": "stdin",
     "output_type": "stream",
     "text": [
      "What is the product of 8 and 3?  7\n"
     ]
    },
    {
     "name": "stdout",
     "output_type": "stream",
     "text": [
      "Incorrect. The correct answer is 24.\n"
     ]
    }
   ],
   "source": [
    "# Exercise 2: Product of Random Numbers\n",
    "\n",
    "import random\n",
    "\n",
    "# Generate two random numbers\n",
    "num1 = random.randint(1, 10)\n",
    "num2 = random.randint(1, 10)\n",
    "\n",
    "# Ask the user to enter the product\n",
    "user_answer = int(input(f\"What is the product of {num1} and {num2}? \"))\n",
    "\n",
    "# Calculate the correct product\n",
    "correct_answer = num1 * num2\n",
    "\n",
    "# Check if the user's answer is correct\n",
    "if user_answer == correct_answer:\n",
    "  print(\"Correct! Well done.\")\n",
    "else:\n",
    "  print(f\"Incorrect. The correct answer is {correct_answer}.\")"
   ]
  },
  {
   "cell_type": "code",
   "execution_count": 9,
   "id": "9253a118-4e9a-4faf-ad5c-64336f76da0e",
   "metadata": {},
   "outputs": [
    {
     "name": "stdout",
     "output_type": "stream",
     "text": [
      "Squares of Odd Numbers (100-200):\n",
      "10201\n",
      "10609\n",
      "11025\n",
      "11449\n",
      "11881\n",
      "12321\n",
      "12769\n",
      "13225\n",
      "13689\n",
      "14161\n",
      "14641\n",
      "15129\n",
      "15625\n",
      "16129\n",
      "16641\n",
      "17161\n",
      "17689\n",
      "18225\n",
      "18769\n",
      "19321\n",
      "19881\n",
      "20449\n",
      "21025\n",
      "21609\n",
      "22201\n",
      "22801\n",
      "23409\n",
      "24025\n",
      "24649\n",
      "25281\n",
      "25921\n",
      "26569\n",
      "27225\n",
      "27889\n",
      "28561\n",
      "29241\n",
      "29929\n",
      "30625\n",
      "31329\n",
      "32041\n",
      "32761\n",
      "33489\n",
      "34225\n",
      "34969\n",
      "35721\n",
      "36481\n",
      "37249\n",
      "38025\n",
      "38809\n",
      "39601\n",
      "Squares of Even Numbers (100-200):\n",
      "10000\n",
      "10404\n",
      "10816\n",
      "11236\n",
      "11664\n",
      "12100\n",
      "12544\n",
      "12996\n",
      "13456\n",
      "13924\n",
      "14400\n",
      "14884\n",
      "15376\n",
      "15876\n",
      "16384\n",
      "16900\n",
      "17424\n",
      "17956\n",
      "18496\n",
      "19044\n",
      "19600\n",
      "20164\n",
      "20736\n",
      "21316\n",
      "21904\n",
      "22500\n",
      "23104\n",
      "23716\n",
      "24336\n",
      "24964\n",
      "25600\n",
      "26244\n",
      "26896\n",
      "27556\n",
      "28224\n",
      "28900\n",
      "29584\n",
      "30276\n",
      "30976\n",
      "31684\n",
      "32400\n",
      "33124\n",
      "33856\n",
      "34596\n",
      "35344\n",
      "36100\n",
      "36864\n",
      "37636\n",
      "38416\n",
      "39204\n",
      "40000\n"
     ]
    }
   ],
   "source": [
    "# Exercise 3: Squares of Odd Numbers (within the range of 100 to 200)\n",
    "\n",
    "print(\"Squares of Odd Numbers (100-200):\")\n",
    "for number in range(100, 201):\n",
    "  if number % 2 != 0:\n",
    "    print(number**2)\n",
    "#=====================================================================================================#\n",
    "# Exercise 3: Squares of Even Numbers (within the range of 100 to 200)\n",
    "\n",
    "print(\"Squares of Even Numbers (100-200):\")\n",
    "for number in range(100, 201):\n",
    "  if number % 2 == 0:  # Check if the number is even\n",
    "    print(number**2)"
   ]
  },
  {
   "cell_type": "code",
   "execution_count": 13,
   "id": "f9ebb8eb-7394-4cf7-9f50-e23bbf79e938",
   "metadata": {},
   "outputs": [
    {
     "name": "stdout",
     "output_type": "stream",
     "text": [
      "'this': 2\n",
      "'is': 1\n",
      "'a': 1\n",
      "'sample': 1\n",
      "'text.': 1\n",
      "'text': 1\n",
      "'will': 1\n",
      "'be': 1\n",
      "'used': 1\n",
      "'to': 1\n",
      "'demonstrate': 1\n",
      "'the': 1\n",
      "'word': 1\n",
      "'counter.': 1\n"
     ]
    }
   ],
   "source": [
    "#Exercise 4\n",
    "#Word count\n",
    "#write a program to count the number of words in a given text.\n",
    "\n",
    "def count_words(text):\n",
    "    \n",
    "  words = text.lower().split()\n",
    "  word_counts = {}\n",
    "  for word in words:\n",
    "    if word in word_counts:\n",
    "      word_counts[word] += 1\n",
    "    else:\n",
    "      word_counts[word] = 1\n",
    "  return word_counts\n",
    "\n",
    "input_text = \"This is a sample text. This text will be used to demonstrate the word counter.\"\n",
    "word_counts = count_words(input_text)\n",
    "for word, count in word_counts.items():\n",
    "  print(f\"'{word}': {count}\")\n"
   ]
  },
  {
   "cell_type": "code",
   "execution_count": 41,
   "id": "7684a54e-07eb-459c-8472-0b4b192f6075",
   "metadata": {},
   "outputs": [
    {
     "name": "stdout",
     "output_type": "stream",
     "text": [
      "'racecar' is a palindrome: True\n",
      "'hello' is  a palindrome: False\n",
      "'madam' is a palindrome: True\n"
     ]
    }
   ],
   "source": [
    "#Exercise 5\n",
    "# Check for Palindrome\n",
    " \n",
    "def is_palindrome(text):\n",
    "  \"\"\"\n",
    "  Checks if a given string is a palindrome.\n",
    "\n",
    "  Args:\n",
    "      text: The string to check.\n",
    "\n",
    "  Returns:\n",
    "      True if the string is a palindrome, False otherwise.\n",
    "  \"\"\"\n",
    "  processed_text = text.lower().replace(\" \", \"\")\n",
    "  return processed_text == processed_text[::-1]\n",
    "\n",
    "#  Text :  The String to check\n",
    "string1 = \"racecar\"\n",
    "string2 = \"hello\"\n",
    "string3 = \"madam\"\n",
    " \n",
    "#Returns True if it is a palindrome or else Flase\n",
    "print(f\"'{string1}' is a palindrome: {is_palindrome(string1)}\")\n",
    "print(f\"'{string2}' is  a palindrome: {is_palindrome(string2)}\")\n",
    "print(f\"'{string3}' is a palindrome: {is_palindrome(string3)}\")\n",
    "\n",
    "    \n",
    "    "
   ]
  },
  {
   "cell_type": "code",
   "execution_count": null,
   "id": "711b509a-8d98-4c85-90a0-3573c60260e4",
   "metadata": {},
   "outputs": [],
   "source": []
  }
 ],
 "metadata": {
  "kernelspec": {
   "display_name": "Python 3 (ipykernel)",
   "language": "python",
   "name": "python3"
  },
  "language_info": {
   "codemirror_mode": {
    "name": "ipython",
    "version": 3
   },
   "file_extension": ".py",
   "mimetype": "text/x-python",
   "name": "python",
   "nbconvert_exporter": "python",
   "pygments_lexer": "ipython3",
   "version": "3.12.4"
  }
 },
 "nbformat": 4,
 "nbformat_minor": 5
}
