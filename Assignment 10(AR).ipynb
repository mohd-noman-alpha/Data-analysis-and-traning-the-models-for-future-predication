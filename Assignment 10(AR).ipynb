{
 "cells": [
  {
   "cell_type": "code",
   "execution_count": 1,
   "id": "e6479229-707e-42d1-9282-afb17d514eec",
   "metadata": {},
   "outputs": [
    {
     "data": {
      "text/plain": [
       "(7501, 20)"
      ]
     },
     "execution_count": 1,
     "metadata": {},
     "output_type": "execute_result"
    }
   ],
   "source": [
    "#Importing the dataset\n",
    "import pandas as pd\n",
    "df = pd.read_csv('Online-retail.csv', header = None)\n",
    "df.shape"
   ]
  },
  {
   "cell_type": "code",
   "execution_count": 2,
   "id": "49ad5e60-3a7d-41d8-8b57-122ece25deaa",
   "metadata": {},
   "outputs": [
    {
     "data": {
      "text/html": [
       "<div>\n",
       "<style scoped>\n",
       "    .dataframe tbody tr th:only-of-type {\n",
       "        vertical-align: middle;\n",
       "    }\n",
       "\n",
       "    .dataframe tbody tr th {\n",
       "        vertical-align: top;\n",
       "    }\n",
       "\n",
       "    .dataframe thead th {\n",
       "        text-align: right;\n",
       "    }\n",
       "</style>\n",
       "<table border=\"1\" class=\"dataframe\">\n",
       "  <thead>\n",
       "    <tr style=\"text-align: right;\">\n",
       "      <th></th>\n",
       "      <th>0</th>\n",
       "      <th>1</th>\n",
       "      <th>2</th>\n",
       "      <th>3</th>\n",
       "      <th>4</th>\n",
       "      <th>5</th>\n",
       "      <th>6</th>\n",
       "      <th>7</th>\n",
       "      <th>8</th>\n",
       "      <th>9</th>\n",
       "      <th>10</th>\n",
       "      <th>11</th>\n",
       "      <th>12</th>\n",
       "      <th>13</th>\n",
       "      <th>14</th>\n",
       "      <th>15</th>\n",
       "      <th>16</th>\n",
       "      <th>17</th>\n",
       "      <th>18</th>\n",
       "      <th>19</th>\n",
       "    </tr>\n",
       "  </thead>\n",
       "  <tbody>\n",
       "    <tr>\n",
       "      <th>0</th>\n",
       "      <td>shrimp</td>\n",
       "      <td>almonds</td>\n",
       "      <td>avocado</td>\n",
       "      <td>vegetables mix</td>\n",
       "      <td>green grapes</td>\n",
       "      <td>whole weat flour</td>\n",
       "      <td>yams</td>\n",
       "      <td>cottage cheese</td>\n",
       "      <td>energy drink</td>\n",
       "      <td>tomato juice</td>\n",
       "      <td>low fat yogurt</td>\n",
       "      <td>green tea</td>\n",
       "      <td>honey</td>\n",
       "      <td>salad</td>\n",
       "      <td>mineral water</td>\n",
       "      <td>salmon</td>\n",
       "      <td>antioxydant juice</td>\n",
       "      <td>frozen smoothie</td>\n",
       "      <td>spinach</td>\n",
       "      <td>olive oil</td>\n",
       "    </tr>\n",
       "    <tr>\n",
       "      <th>1</th>\n",
       "      <td>burgers</td>\n",
       "      <td>meatballs</td>\n",
       "      <td>eggs</td>\n",
       "      <td>NaN</td>\n",
       "      <td>NaN</td>\n",
       "      <td>NaN</td>\n",
       "      <td>NaN</td>\n",
       "      <td>NaN</td>\n",
       "      <td>NaN</td>\n",
       "      <td>NaN</td>\n",
       "      <td>NaN</td>\n",
       "      <td>NaN</td>\n",
       "      <td>NaN</td>\n",
       "      <td>NaN</td>\n",
       "      <td>NaN</td>\n",
       "      <td>NaN</td>\n",
       "      <td>NaN</td>\n",
       "      <td>NaN</td>\n",
       "      <td>NaN</td>\n",
       "      <td>NaN</td>\n",
       "    </tr>\n",
       "    <tr>\n",
       "      <th>2</th>\n",
       "      <td>chutney</td>\n",
       "      <td>NaN</td>\n",
       "      <td>NaN</td>\n",
       "      <td>NaN</td>\n",
       "      <td>NaN</td>\n",
       "      <td>NaN</td>\n",
       "      <td>NaN</td>\n",
       "      <td>NaN</td>\n",
       "      <td>NaN</td>\n",
       "      <td>NaN</td>\n",
       "      <td>NaN</td>\n",
       "      <td>NaN</td>\n",
       "      <td>NaN</td>\n",
       "      <td>NaN</td>\n",
       "      <td>NaN</td>\n",
       "      <td>NaN</td>\n",
       "      <td>NaN</td>\n",
       "      <td>NaN</td>\n",
       "      <td>NaN</td>\n",
       "      <td>NaN</td>\n",
       "    </tr>\n",
       "    <tr>\n",
       "      <th>3</th>\n",
       "      <td>turkey</td>\n",
       "      <td>avocado</td>\n",
       "      <td>NaN</td>\n",
       "      <td>NaN</td>\n",
       "      <td>NaN</td>\n",
       "      <td>NaN</td>\n",
       "      <td>NaN</td>\n",
       "      <td>NaN</td>\n",
       "      <td>NaN</td>\n",
       "      <td>NaN</td>\n",
       "      <td>NaN</td>\n",
       "      <td>NaN</td>\n",
       "      <td>NaN</td>\n",
       "      <td>NaN</td>\n",
       "      <td>NaN</td>\n",
       "      <td>NaN</td>\n",
       "      <td>NaN</td>\n",
       "      <td>NaN</td>\n",
       "      <td>NaN</td>\n",
       "      <td>NaN</td>\n",
       "    </tr>\n",
       "    <tr>\n",
       "      <th>4</th>\n",
       "      <td>mineral water</td>\n",
       "      <td>milk</td>\n",
       "      <td>energy bar</td>\n",
       "      <td>whole wheat rice</td>\n",
       "      <td>green tea</td>\n",
       "      <td>NaN</td>\n",
       "      <td>NaN</td>\n",
       "      <td>NaN</td>\n",
       "      <td>NaN</td>\n",
       "      <td>NaN</td>\n",
       "      <td>NaN</td>\n",
       "      <td>NaN</td>\n",
       "      <td>NaN</td>\n",
       "      <td>NaN</td>\n",
       "      <td>NaN</td>\n",
       "      <td>NaN</td>\n",
       "      <td>NaN</td>\n",
       "      <td>NaN</td>\n",
       "      <td>NaN</td>\n",
       "      <td>NaN</td>\n",
       "    </tr>\n",
       "  </tbody>\n",
       "</table>\n",
       "</div>"
      ],
      "text/plain": [
       "              0          1           2                 3             4   \\\n",
       "0         shrimp    almonds     avocado    vegetables mix  green grapes   \n",
       "1        burgers  meatballs        eggs               NaN           NaN   \n",
       "2        chutney        NaN         NaN               NaN           NaN   \n",
       "3         turkey    avocado         NaN               NaN           NaN   \n",
       "4  mineral water       milk  energy bar  whole wheat rice     green tea   \n",
       "\n",
       "                 5     6               7             8             9   \\\n",
       "0  whole weat flour  yams  cottage cheese  energy drink  tomato juice   \n",
       "1               NaN   NaN             NaN           NaN           NaN   \n",
       "2               NaN   NaN             NaN           NaN           NaN   \n",
       "3               NaN   NaN             NaN           NaN           NaN   \n",
       "4               NaN   NaN             NaN           NaN           NaN   \n",
       "\n",
       "               10         11     12     13             14      15  \\\n",
       "0  low fat yogurt  green tea  honey  salad  mineral water  salmon   \n",
       "1             NaN        NaN    NaN    NaN            NaN     NaN   \n",
       "2             NaN        NaN    NaN    NaN            NaN     NaN   \n",
       "3             NaN        NaN    NaN    NaN            NaN     NaN   \n",
       "4             NaN        NaN    NaN    NaN            NaN     NaN   \n",
       "\n",
       "                  16               17       18         19  \n",
       "0  antioxydant juice  frozen smoothie  spinach  olive oil  \n",
       "1                NaN              NaN      NaN        NaN  \n",
       "2                NaN              NaN      NaN        NaN  \n",
       "3                NaN              NaN      NaN        NaN  \n",
       "4                NaN              NaN      NaN        NaN  "
      ]
     },
     "execution_count": 2,
     "metadata": {},
     "output_type": "execute_result"
    }
   ],
   "source": [
    "df.head()"
   ]
  },
  {
   "cell_type": "code",
   "execution_count": 3,
   "id": "8e73a597-d5cb-4a5f-b4a5-19b03ef35a02",
   "metadata": {},
   "outputs": [
    {
     "data": {
      "image/png": "[encoded data removed]",
      "text/plain": [
       "<Figure size 1300x500 with 1 Axes>"
      ]
     },
     "metadata": {},
     "output_type": "display_data"
    }
   ],
   "source": [
    "#Frequency of most popular i\n",
    "import matplotlib.pyplot as plt\n",
    "import numpy as np\n",
    "\n",
    "color = plt.cm.rainbow(np.linspace(0, 1, 40))\n",
    "df[0].value_counts().head(40).plot.bar(color = color, figsize=(13,5))\n",
    "plt.title('Frequency of the most popular items', fontsize = 20)\n",
    "plt.xticks(rotation = 90 )\n",
    "plt.grid()\n",
    "plt.show()"
   ]
  },
  {
   "cell_type": "code",
   "execution_count": 4,
   "id": "aa0b3843-0654-4753-9d01-5ade8d165050",
   "metadata": {},
   "outputs": [],
   "source": [
    "data_cleaned = df.drop_duplicates()"
   ]
  },
  {
   "cell_type": "code",
   "execution_count": 5,
   "id": "9f5e6d5b-ba9e-4fde-a622-49123d1300cc",
   "metadata": {},
   "outputs": [
    {
     "data": {
      "text/html": [
       "<div>\n",
       "<style scoped>\n",
       "    .dataframe tbody tr th:only-of-type {\n",
       "        vertical-align: middle;\n",
       "    }\n",
       "\n",
       "    .dataframe tbody tr th {\n",
       "        vertical-align: top;\n",
       "    }\n",
       "\n",
       "    .dataframe thead th {\n",
       "        text-align: right;\n",
       "    }\n",
       "</style>\n",
       "<table border=\"1\" class=\"dataframe\">\n",
       "  <thead>\n",
       "    <tr style=\"text-align: right;\">\n",
       "      <th></th>\n",
       "      <th>0</th>\n",
       "      <th>1</th>\n",
       "      <th>2</th>\n",
       "      <th>3</th>\n",
       "      <th>4</th>\n",
       "      <th>5</th>\n",
       "      <th>6</th>\n",
       "      <th>7</th>\n",
       "      <th>8</th>\n",
       "      <th>9</th>\n",
       "      <th>10</th>\n",
       "      <th>11</th>\n",
       "      <th>12</th>\n",
       "      <th>13</th>\n",
       "      <th>14</th>\n",
       "      <th>15</th>\n",
       "      <th>16</th>\n",
       "      <th>17</th>\n",
       "      <th>18</th>\n",
       "      <th>19</th>\n",
       "    </tr>\n",
       "  </thead>\n",
       "  <tbody>\n",
       "    <tr>\n",
       "      <th>0</th>\n",
       "      <td>shrimp</td>\n",
       "      <td>almonds</td>\n",
       "      <td>avocado</td>\n",
       "      <td>vegetables mix</td>\n",
       "      <td>green grapes</td>\n",
       "      <td>whole weat flour</td>\n",
       "      <td>yams</td>\n",
       "      <td>cottage cheese</td>\n",
       "      <td>energy drink</td>\n",
       "      <td>tomato juice</td>\n",
       "      <td>low fat yogurt</td>\n",
       "      <td>green tea</td>\n",
       "      <td>honey</td>\n",
       "      <td>salad</td>\n",
       "      <td>mineral water</td>\n",
       "      <td>salmon</td>\n",
       "      <td>antioxydant juice</td>\n",
       "      <td>frozen smoothie</td>\n",
       "      <td>spinach</td>\n",
       "      <td>olive oil</td>\n",
       "    </tr>\n",
       "    <tr>\n",
       "      <th>1</th>\n",
       "      <td>burgers</td>\n",
       "      <td>meatballs</td>\n",
       "      <td>eggs</td>\n",
       "      <td>NaN</td>\n",
       "      <td>NaN</td>\n",
       "      <td>NaN</td>\n",
       "      <td>NaN</td>\n",
       "      <td>NaN</td>\n",
       "      <td>NaN</td>\n",
       "      <td>NaN</td>\n",
       "      <td>NaN</td>\n",
       "      <td>NaN</td>\n",
       "      <td>NaN</td>\n",
       "      <td>NaN</td>\n",
       "      <td>NaN</td>\n",
       "      <td>NaN</td>\n",
       "      <td>NaN</td>\n",
       "      <td>NaN</td>\n",
       "      <td>NaN</td>\n",
       "      <td>NaN</td>\n",
       "    </tr>\n",
       "    <tr>\n",
       "      <th>2</th>\n",
       "      <td>chutney</td>\n",
       "      <td>NaN</td>\n",
       "      <td>NaN</td>\n",
       "      <td>NaN</td>\n",
       "      <td>NaN</td>\n",
       "      <td>NaN</td>\n",
       "      <td>NaN</td>\n",
       "      <td>NaN</td>\n",
       "      <td>NaN</td>\n",
       "      <td>NaN</td>\n",
       "      <td>NaN</td>\n",
       "      <td>NaN</td>\n",
       "      <td>NaN</td>\n",
       "      <td>NaN</td>\n",
       "      <td>NaN</td>\n",
       "      <td>NaN</td>\n",
       "      <td>NaN</td>\n",
       "      <td>NaN</td>\n",
       "      <td>NaN</td>\n",
       "      <td>NaN</td>\n",
       "    </tr>\n",
       "    <tr>\n",
       "      <th>3</th>\n",
       "      <td>turkey</td>\n",
       "      <td>avocado</td>\n",
       "      <td>NaN</td>\n",
       "      <td>NaN</td>\n",
       "      <td>NaN</td>\n",
       "      <td>NaN</td>\n",
       "      <td>NaN</td>\n",
       "      <td>NaN</td>\n",
       "      <td>NaN</td>\n",
       "      <td>NaN</td>\n",
       "      <td>NaN</td>\n",
       "      <td>NaN</td>\n",
       "      <td>NaN</td>\n",
       "      <td>NaN</td>\n",
       "      <td>NaN</td>\n",
       "      <td>NaN</td>\n",
       "      <td>NaN</td>\n",
       "      <td>NaN</td>\n",
       "      <td>NaN</td>\n",
       "      <td>NaN</td>\n",
       "    </tr>\n",
       "    <tr>\n",
       "      <th>4</th>\n",
       "      <td>mineral water</td>\n",
       "      <td>milk</td>\n",
       "      <td>energy bar</td>\n",
       "      <td>whole wheat rice</td>\n",
       "      <td>green tea</td>\n",
       "      <td>NaN</td>\n",
       "      <td>NaN</td>\n",
       "      <td>NaN</td>\n",
       "      <td>NaN</td>\n",
       "      <td>NaN</td>\n",
       "      <td>NaN</td>\n",
       "      <td>NaN</td>\n",
       "      <td>NaN</td>\n",
       "      <td>NaN</td>\n",
       "      <td>NaN</td>\n",
       "      <td>NaN</td>\n",
       "      <td>NaN</td>\n",
       "      <td>NaN</td>\n",
       "      <td>NaN</td>\n",
       "      <td>NaN</td>\n",
       "    </tr>\n",
       "    <tr>\n",
       "      <th>...</th>\n",
       "      <td>...</td>\n",
       "      <td>...</td>\n",
       "      <td>...</td>\n",
       "      <td>...</td>\n",
       "      <td>...</td>\n",
       "      <td>...</td>\n",
       "      <td>...</td>\n",
       "      <td>...</td>\n",
       "      <td>...</td>\n",
       "      <td>...</td>\n",
       "      <td>...</td>\n",
       "      <td>...</td>\n",
       "      <td>...</td>\n",
       "      <td>...</td>\n",
       "      <td>...</td>\n",
       "      <td>...</td>\n",
       "      <td>...</td>\n",
       "      <td>...</td>\n",
       "      <td>...</td>\n",
       "      <td>...</td>\n",
       "    </tr>\n",
       "    <tr>\n",
       "      <th>7493</th>\n",
       "      <td>burgers</td>\n",
       "      <td>salmon</td>\n",
       "      <td>pancakes</td>\n",
       "      <td>french fries</td>\n",
       "      <td>frozen smoothie</td>\n",
       "      <td>fresh bread</td>\n",
       "      <td>mint</td>\n",
       "      <td>NaN</td>\n",
       "      <td>NaN</td>\n",
       "      <td>NaN</td>\n",
       "      <td>NaN</td>\n",
       "      <td>NaN</td>\n",
       "      <td>NaN</td>\n",
       "      <td>NaN</td>\n",
       "      <td>NaN</td>\n",
       "      <td>NaN</td>\n",
       "      <td>NaN</td>\n",
       "      <td>NaN</td>\n",
       "      <td>NaN</td>\n",
       "      <td>NaN</td>\n",
       "    </tr>\n",
       "    <tr>\n",
       "      <th>7494</th>\n",
       "      <td>turkey</td>\n",
       "      <td>burgers</td>\n",
       "      <td>dessert wine</td>\n",
       "      <td>shrimp</td>\n",
       "      <td>pasta</td>\n",
       "      <td>tomatoes</td>\n",
       "      <td>pepper</td>\n",
       "      <td>milk</td>\n",
       "      <td>pancakes</td>\n",
       "      <td>whole wheat rice</td>\n",
       "      <td>oil</td>\n",
       "      <td>frozen smoothie</td>\n",
       "      <td>NaN</td>\n",
       "      <td>NaN</td>\n",
       "      <td>NaN</td>\n",
       "      <td>NaN</td>\n",
       "      <td>NaN</td>\n",
       "      <td>NaN</td>\n",
       "      <td>NaN</td>\n",
       "      <td>NaN</td>\n",
       "    </tr>\n",
       "    <tr>\n",
       "      <th>7496</th>\n",
       "      <td>butter</td>\n",
       "      <td>light mayo</td>\n",
       "      <td>fresh bread</td>\n",
       "      <td>NaN</td>\n",
       "      <td>NaN</td>\n",
       "      <td>NaN</td>\n",
       "      <td>NaN</td>\n",
       "      <td>NaN</td>\n",
       "      <td>NaN</td>\n",
       "      <td>NaN</td>\n",
       "      <td>NaN</td>\n",
       "      <td>NaN</td>\n",
       "      <td>NaN</td>\n",
       "      <td>NaN</td>\n",
       "      <td>NaN</td>\n",
       "      <td>NaN</td>\n",
       "      <td>NaN</td>\n",
       "      <td>NaN</td>\n",
       "      <td>NaN</td>\n",
       "      <td>NaN</td>\n",
       "    </tr>\n",
       "    <tr>\n",
       "      <th>7497</th>\n",
       "      <td>burgers</td>\n",
       "      <td>frozen vegetables</td>\n",
       "      <td>eggs</td>\n",
       "      <td>french fries</td>\n",
       "      <td>magazines</td>\n",
       "      <td>green tea</td>\n",
       "      <td>NaN</td>\n",
       "      <td>NaN</td>\n",
       "      <td>NaN</td>\n",
       "      <td>NaN</td>\n",
       "      <td>NaN</td>\n",
       "      <td>NaN</td>\n",
       "      <td>NaN</td>\n",
       "      <td>NaN</td>\n",
       "      <td>NaN</td>\n",
       "      <td>NaN</td>\n",
       "      <td>NaN</td>\n",
       "      <td>NaN</td>\n",
       "      <td>NaN</td>\n",
       "      <td>NaN</td>\n",
       "    </tr>\n",
       "    <tr>\n",
       "      <th>7500</th>\n",
       "      <td>eggs</td>\n",
       "      <td>frozen smoothie</td>\n",
       "      <td>yogurt cake</td>\n",
       "      <td>low fat yogurt</td>\n",
       "      <td>NaN</td>\n",
       "      <td>NaN</td>\n",
       "      <td>NaN</td>\n",
       "      <td>NaN</td>\n",
       "      <td>NaN</td>\n",
       "      <td>NaN</td>\n",
       "      <td>NaN</td>\n",
       "      <td>NaN</td>\n",
       "      <td>NaN</td>\n",
       "      <td>NaN</td>\n",
       "      <td>NaN</td>\n",
       "      <td>NaN</td>\n",
       "      <td>NaN</td>\n",
       "      <td>NaN</td>\n",
       "      <td>NaN</td>\n",
       "      <td>NaN</td>\n",
       "    </tr>\n",
       "  </tbody>\n",
       "</table>\n",
       "<p>5176 rows × 20 columns</p>\n",
       "</div>"
      ],
      "text/plain": [
       "                 0                  1             2                 3   \\\n",
       "0            shrimp            almonds       avocado    vegetables mix   \n",
       "1           burgers          meatballs          eggs               NaN   \n",
       "2           chutney                NaN           NaN               NaN   \n",
       "3            turkey            avocado           NaN               NaN   \n",
       "4     mineral water               milk    energy bar  whole wheat rice   \n",
       "...             ...                ...           ...               ...   \n",
       "7493        burgers             salmon      pancakes      french fries   \n",
       "7494         turkey            burgers  dessert wine            shrimp   \n",
       "7496         butter         light mayo   fresh bread               NaN   \n",
       "7497        burgers  frozen vegetables          eggs      french fries   \n",
       "7500           eggs    frozen smoothie   yogurt cake    low fat yogurt   \n",
       "\n",
       "                   4                 5       6               7             8   \\\n",
       "0        green grapes  whole weat flour    yams  cottage cheese  energy drink   \n",
       "1                 NaN               NaN     NaN             NaN           NaN   \n",
       "2                 NaN               NaN     NaN             NaN           NaN   \n",
       "3                 NaN               NaN     NaN             NaN           NaN   \n",
       "4           green tea               NaN     NaN             NaN           NaN   \n",
       "...               ...               ...     ...             ...           ...   \n",
       "7493  frozen smoothie       fresh bread    mint             NaN           NaN   \n",
       "7494            pasta          tomatoes  pepper            milk      pancakes   \n",
       "7496              NaN               NaN     NaN             NaN           NaN   \n",
       "7497        magazines         green tea     NaN             NaN           NaN   \n",
       "7500              NaN               NaN     NaN             NaN           NaN   \n",
       "\n",
       "                    9               10               11     12     13  \\\n",
       "0         tomato juice  low fat yogurt        green tea  honey  salad   \n",
       "1                  NaN             NaN              NaN    NaN    NaN   \n",
       "2                  NaN             NaN              NaN    NaN    NaN   \n",
       "3                  NaN             NaN              NaN    NaN    NaN   \n",
       "4                  NaN             NaN              NaN    NaN    NaN   \n",
       "...                ...             ...              ...    ...    ...   \n",
       "7493               NaN             NaN              NaN    NaN    NaN   \n",
       "7494  whole wheat rice             oil  frozen smoothie    NaN    NaN   \n",
       "7496               NaN             NaN              NaN    NaN    NaN   \n",
       "7497               NaN             NaN              NaN    NaN    NaN   \n",
       "7500               NaN             NaN              NaN    NaN    NaN   \n",
       "\n",
       "                 14      15                 16               17       18  \\\n",
       "0     mineral water  salmon  antioxydant juice  frozen smoothie  spinach   \n",
       "1               NaN     NaN                NaN              NaN      NaN   \n",
       "2               NaN     NaN                NaN              NaN      NaN   \n",
       "3               NaN     NaN                NaN              NaN      NaN   \n",
       "4               NaN     NaN                NaN              NaN      NaN   \n",
       "...             ...     ...                ...              ...      ...   \n",
       "7493            NaN     NaN                NaN              NaN      NaN   \n",
       "7494            NaN     NaN                NaN              NaN      NaN   \n",
       "7496            NaN     NaN                NaN              NaN      NaN   \n",
       "7497            NaN     NaN                NaN              NaN      NaN   \n",
       "7500            NaN     NaN                NaN              NaN      NaN   \n",
       "\n",
       "             19  \n",
       "0     olive oil  \n",
       "1           NaN  \n",
       "2           NaN  \n",
       "3           NaN  \n",
       "4           NaN  \n",
       "...         ...  \n",
       "7493        NaN  \n",
       "7494        NaN  \n",
       "7496        NaN  \n",
       "7497        NaN  \n",
       "7500        NaN  \n",
       "\n",
       "[5176 rows x 20 columns]"
      ]
     },
     "execution_count": 5,
     "metadata": {},
     "output_type": "execute_result"
    }
   ],
   "source": [
    "data_cleaned\n"
   ]
  },
  {
   "cell_type": "code",
   "execution_count": 6,
   "id": "88ebe649-e158-4a8a-ac7a-898f00c3e204",
   "metadata": {},
   "outputs": [],
   "source": [
    "trans = []\n",
    "for i in range(0, 5176):\n",
    "  trans.append([str(df.values[i, j]) for j in range(0, 20)])"
   ]
  },
  {
   "cell_type": "code",
   "execution_count": 7,
   "id": "3b7e97d5-a6f3-4457-a24f-32e87bdd4cf3",
   "metadata": {},
   "outputs": [
    {
     "data": {
      "text/plain": [
       "5176"
      ]
     },
     "execution_count": 7,
     "metadata": {},
     "output_type": "execute_result"
    }
   ],
   "source": [
    "len(trans)"
   ]
  },
  {
   "cell_type": "code",
   "execution_count": 8,
   "id": "10feb207-b72f-411b-8574-8b53a85d9f72",
   "metadata": {},
   "outputs": [
    {
     "data": {
      "text/plain": [
       "['shrimp',\n",
       " 'almonds',\n",
       " 'avocado',\n",
       " 'vegetables mix',\n",
       " 'green grapes',\n",
       " 'whole weat flour',\n",
       " 'yams',\n",
       " 'cottage cheese',\n",
       " 'energy drink',\n",
       " 'tomato juice',\n",
       " 'low fat yogurt',\n",
       " 'green tea',\n",
       " 'honey',\n",
       " 'salad',\n",
       " 'mineral water',\n",
       " 'salmon',\n",
       " 'antioxydant juice',\n",
       " 'frozen smoothie',\n",
       " 'spinach',\n",
       " 'olive oil']"
      ]
     },
     "execution_count": 8,
     "metadata": {},
     "output_type": "execute_result"
    }
   ],
   "source": [
    "trans[0]"
   ]
  },
  {
   "cell_type": "code",
   "execution_count": 9,
   "id": "9a2f338d-2851-4f18-bb3e-f30156c1150c",
   "metadata": {},
   "outputs": [
    {
     "data": {
      "text/plain": [
       "['burgers',\n",
       " 'meatballs',\n",
       " 'eggs',\n",
       " 'nan',\n",
       " 'nan',\n",
       " 'nan',\n",
       " 'nan',\n",
       " 'nan',\n",
       " 'nan',\n",
       " 'nan',\n",
       " 'nan',\n",
       " 'nan',\n",
       " 'nan',\n",
       " 'nan',\n",
       " 'nan',\n",
       " 'nan',\n",
       " 'nan',\n",
       " 'nan',\n",
       " 'nan',\n",
       " 'nan']"
      ]
     },
     "execution_count": 9,
     "metadata": {},
     "output_type": "execute_result"
    }
   ],
   "source": [
    "trans[1]"
   ]
  },
  {
   "cell_type": "code",
   "execution_count": 10,
   "id": "5d79d96d-f6a0-495e-ac7e-c1dc56b13c3b",
   "metadata": {},
   "outputs": [],
   "source": [
    "from apyori import apriori\n",
    "rules = apriori(transactions = trans,\n",
    "                min_support = 0.003,\n",
    "                min_confidence = 0.2,\n",
    "                min_lift = 3,\n",
    "                min_length = 2, max_length = 2)"
   ]
  },
  {
   "cell_type": "code",
   "execution_count": 11,
   "id": "f284a92c-671e-4f93-b6f9-88622d6d81a3",
   "metadata": {},
   "outputs": [
    {
     "data": {
      "text/plain": [
       "<generator object apriori at 0x0000020F80898300>"
      ]
     },
     "execution_count": 11,
     "metadata": {},
     "output_type": "execute_result"
    }
   ],
   "source": [
    "rules"
   ]
  },
  {
   "cell_type": "code",
   "execution_count": 12,
   "id": "53a4562f-fa8b-41d8-a6c5-23a9fbb7cd9a",
   "metadata": {},
   "outputs": [
    {
     "data": {
      "text/plain": [
       "[RelationRecord(items=frozenset({'almonds', 'burgers'}), support=0.005795981452859351, ordered_statistics=[OrderedStatistic(items_base=frozenset({'almonds'}), items_add=frozenset({'burgers'}), confidence=0.28571428571428575, lift=3.250235478806908)]),\n",
       " RelationRecord(items=frozenset({'ground beef', 'blueberries'}), support=0.0030911901081916537, ordered_statistics=[OrderedStatistic(items_base=frozenset({'blueberries'}), items_add=frozenset({'ground beef'}), confidence=0.3137254901960784, lift=3.029558091893474)]),\n",
       " RelationRecord(items=frozenset({'light cream', 'chicken'}), support=0.004443585780525503, ordered_statistics=[OrderedStatistic(items_base=frozenset({'light cream'}), items_add=frozenset({'chicken'}), confidence=0.2804878048780488, lift=4.508710801393729)]),\n",
       " RelationRecord(items=frozenset({'light cream', 'cooking oil'}), support=0.0034775888717156105, ordered_statistics=[OrderedStatistic(items_base=frozenset({'light cream'}), items_add=frozenset({'cooking oil'}), confidence=0.21951219512195122, lift=3.8127353085611393)]),\n",
       " RelationRecord(items=frozenset({'mushroom cream sauce', 'escalope'}), support=0.0056027820710973725, ordered_statistics=[OrderedStatistic(items_base=frozenset({'mushroom cream sauce'}), items_add=frozenset({'escalope'}), confidence=0.29591836734693877, lift=3.638179262203694)]),\n",
       " RelationRecord(items=frozenset({'escalope', 'pasta'}), support=0.004829984544049459, ordered_statistics=[OrderedStatistic(items_base=frozenset({'pasta'}), items_add=frozenset({'escalope'}), confidence=0.3164556962025316, lift=3.8906762079437143)]),\n",
       " RelationRecord(items=frozenset({'olive oil', 'extra dark chocolate'}), support=0.0030911901081916537, ordered_statistics=[OrderedStatistic(items_base=frozenset({'extra dark chocolate'}), items_add=frozenset({'olive oil'}), confidence=0.25396825396825395, lift=3.641384162159785)]),\n",
       " RelationRecord(items=frozenset({'honey', 'fromage blanc'}), support=0.0032843894899536323, ordered_statistics=[OrderedStatistic(items_base=frozenset({'fromage blanc'}), items_add=frozenset({'honey'}), confidence=0.2537313432835821, lift=5.031852233087436)]),\n",
       " RelationRecord(items=frozenset({'parmesan cheese', 'frozen vegetables'}), support=0.005795981452859351, ordered_statistics=[OrderedStatistic(items_base=frozenset({'parmesan cheese'}), items_add=frozenset({'frozen vegetables'}), confidence=0.3614457831325301, lift=3.7342183103672175)]),\n",
       " RelationRecord(items=frozenset({'ground beef', 'herb & pepper'}), support=0.015455950540958269, ordered_statistics=[OrderedStatistic(items_base=frozenset({'herb & pepper'}), items_add=frozenset({'ground beef'}), confidence=0.3292181069958848, lift=3.179165898900559)]),\n",
       " RelationRecord(items=frozenset({'ground beef', 'tomato sauce'}), support=0.004829984544049459, ordered_statistics=[OrderedStatistic(items_base=frozenset({'tomato sauce'}), items_add=frozenset({'ground beef'}), confidence=0.3246753246753247, lift=3.135297538282613)]),\n",
       " RelationRecord(items=frozenset({'light cream', 'olive oil'}), support=0.0034775888717156105, ordered_statistics=[OrderedStatistic(items_base=frozenset({'light cream'}), items_add=frozenset({'olive oil'}), confidence=0.21951219512195122, lift=3.1473549084521313)]),\n",
       " RelationRecord(items=frozenset({'whole wheat pasta', 'olive oil'}), support=0.0071483771251932, ordered_statistics=[OrderedStatistic(items_base=frozenset({'whole wheat pasta'}), items_add=frozenset({'olive oil'}), confidence=0.2781954887218045, lift=3.9887530460500273)]),\n",
       " RelationRecord(items=frozenset({'shrimp', 'pasta'}), support=0.004829984544049459, ordered_statistics=[OrderedStatistic(items_base=frozenset({'pasta'}), items_add=frozenset({'shrimp'}), confidence=0.3164556962025316, lift=4.3563156477242115)])]"
      ]
     },
     "execution_count": 12,
     "metadata": {},
     "output_type": "execute_result"
    }
   ],
   "source": [
    "results = list(rules)\n",
    "results\n"
   ]
  },
  {
   "cell_type": "code",
   "execution_count": 13,
   "id": "42aa3538-172d-46b9-b1c7-94ac1d23ef80",
   "metadata": {},
   "outputs": [
    {
     "data": {
      "text/plain": [
       "14"
      ]
     },
     "execution_count": 13,
     "metadata": {},
     "output_type": "execute_result"
    }
   ],
   "source": [
    "len(results)"
   ]
  },
  {
   "cell_type": "code",
   "execution_count": 14,
   "id": "3bf8f471-8d6d-4c98-9a49-2dedca58d491",
   "metadata": {},
   "outputs": [
    {
     "data": {
      "text/plain": [
       "RelationRecord(items=frozenset({'almonds', 'burgers'}), support=0.005795981452859351, ordered_statistics=[OrderedStatistic(items_base=frozenset({'almonds'}), items_add=frozenset({'burgers'}), confidence=0.28571428571428575, lift=3.250235478806908)])"
      ]
     },
     "execution_count": 14,
     "metadata": {},
     "output_type": "execute_result"
    }
   ],
   "source": [
    "results[0]"
   ]
  },
  {
   "cell_type": "code",
   "execution_count": 15,
   "id": "b37d7afd-0db1-4708-8784-a1a84f76f9c4",
   "metadata": {},
   "outputs": [
    {
     "data": {
      "text/plain": [
       "3.250235478806908"
      ]
     },
     "execution_count": 15,
     "metadata": {},
     "output_type": "execute_result"
    }
   ],
   "source": [
    "results[0][1] # support\n",
    "results[0][2][0][0] # base item\n",
    "results[0][2][0][1] # add item\n",
    "results[0][2][0][2] # confidence\n",
    "results[0][2][0][3] # lift\n"
   ]
  },
  {
   "cell_type": "code",
   "execution_count": 16,
   "id": "cd694498-6d43-4034-bcfe-3f96ee7aa848",
   "metadata": {},
   "outputs": [],
   "source": [
    "#let us consider the array format.\n",
    "a = []\n",
    "b = []\n",
    "c = []\n",
    "d = []\n",
    "e = []"
   ]
  },
  {
   "cell_type": "code",
   "execution_count": 17,
   "id": "9c678e97-3a9a-4bf4-bf1d-0f056f406060",
   "metadata": {},
   "outputs": [],
   "source": [
    "for i in range(0,14):\n",
    "    c.append(results[i][1]) # support\n",
    "    a.append(results[i][2][0][0]) # base item\n",
    "    b.append(results[i][2][0][1]) # add item\n",
    "    d.append(results[i][2][0][2]) # confidence\n",
    "    e.append(results[i][2][0][3]) # lift"
   ]
  },
  {
   "cell_type": "code",
   "execution_count": 18,
   "id": "ea7ff311-9502-4d3f-8614-af2ede0ae67e",
   "metadata": {},
   "outputs": [],
   "source": [
    "##converting into data frame\n",
    "d1 = pd.DataFrame(a)\n",
    "d2 = pd.DataFrame(b)\n",
    "d3 = pd.DataFrame(c)\n",
    "d4 = pd.DataFrame(d)\n",
    "d5 = pd.DataFrame(e)"
   ]
  },
  {
   "cell_type": "code",
   "execution_count": 19,
   "id": "c77bb948-582e-4095-994c-b38c5400636a",
   "metadata": {},
   "outputs": [
    {
     "data": {
      "text/html": [
       "<div>\n",
       "<style scoped>\n",
       "    .dataframe tbody tr th:only-of-type {\n",
       "        vertical-align: middle;\n",
       "    }\n",
       "\n",
       "    .dataframe tbody tr th {\n",
       "        vertical-align: top;\n",
       "    }\n",
       "\n",
       "    .dataframe thead th {\n",
       "        text-align: right;\n",
       "    }\n",
       "</style>\n",
       "<table border=\"1\" class=\"dataframe\">\n",
       "  <thead>\n",
       "    <tr style=\"text-align: right;\">\n",
       "      <th></th>\n",
       "      <th>baseitem</th>\n",
       "      <th>additem</th>\n",
       "      <th>support</th>\n",
       "      <th>cofidence</th>\n",
       "      <th>lift</th>\n",
       "    </tr>\n",
       "  </thead>\n",
       "  <tbody>\n",
       "    <tr>\n",
       "      <th>0</th>\n",
       "      <td>almonds</td>\n",
       "      <td>burgers</td>\n",
       "      <td>0.005796</td>\n",
       "      <td>0.285714</td>\n",
       "      <td>3.250235</td>\n",
       "    </tr>\n",
       "    <tr>\n",
       "      <th>1</th>\n",
       "      <td>blueberries</td>\n",
       "      <td>ground beef</td>\n",
       "      <td>0.003091</td>\n",
       "      <td>0.313725</td>\n",
       "      <td>3.029558</td>\n",
       "    </tr>\n",
       "    <tr>\n",
       "      <th>2</th>\n",
       "      <td>light cream</td>\n",
       "      <td>chicken</td>\n",
       "      <td>0.004444</td>\n",
       "      <td>0.280488</td>\n",
       "      <td>4.508711</td>\n",
       "    </tr>\n",
       "    <tr>\n",
       "      <th>3</th>\n",
       "      <td>light cream</td>\n",
       "      <td>cooking oil</td>\n",
       "      <td>0.003478</td>\n",
       "      <td>0.219512</td>\n",
       "      <td>3.812735</td>\n",
       "    </tr>\n",
       "    <tr>\n",
       "      <th>4</th>\n",
       "      <td>mushroom cream sauce</td>\n",
       "      <td>escalope</td>\n",
       "      <td>0.005603</td>\n",
       "      <td>0.295918</td>\n",
       "      <td>3.638179</td>\n",
       "    </tr>\n",
       "    <tr>\n",
       "      <th>5</th>\n",
       "      <td>pasta</td>\n",
       "      <td>escalope</td>\n",
       "      <td>0.004830</td>\n",
       "      <td>0.316456</td>\n",
       "      <td>3.890676</td>\n",
       "    </tr>\n",
       "    <tr>\n",
       "      <th>6</th>\n",
       "      <td>extra dark chocolate</td>\n",
       "      <td>olive oil</td>\n",
       "      <td>0.003091</td>\n",
       "      <td>0.253968</td>\n",
       "      <td>3.641384</td>\n",
       "    </tr>\n",
       "    <tr>\n",
       "      <th>7</th>\n",
       "      <td>fromage blanc</td>\n",
       "      <td>honey</td>\n",
       "      <td>0.003284</td>\n",
       "      <td>0.253731</td>\n",
       "      <td>5.031852</td>\n",
       "    </tr>\n",
       "    <tr>\n",
       "      <th>8</th>\n",
       "      <td>parmesan cheese</td>\n",
       "      <td>frozen vegetables</td>\n",
       "      <td>0.005796</td>\n",
       "      <td>0.361446</td>\n",
       "      <td>3.734218</td>\n",
       "    </tr>\n",
       "    <tr>\n",
       "      <th>9</th>\n",
       "      <td>herb &amp; pepper</td>\n",
       "      <td>ground beef</td>\n",
       "      <td>0.015456</td>\n",
       "      <td>0.329218</td>\n",
       "      <td>3.179166</td>\n",
       "    </tr>\n",
       "    <tr>\n",
       "      <th>10</th>\n",
       "      <td>tomato sauce</td>\n",
       "      <td>ground beef</td>\n",
       "      <td>0.004830</td>\n",
       "      <td>0.324675</td>\n",
       "      <td>3.135298</td>\n",
       "    </tr>\n",
       "    <tr>\n",
       "      <th>11</th>\n",
       "      <td>light cream</td>\n",
       "      <td>olive oil</td>\n",
       "      <td>0.003478</td>\n",
       "      <td>0.219512</td>\n",
       "      <td>3.147355</td>\n",
       "    </tr>\n",
       "    <tr>\n",
       "      <th>12</th>\n",
       "      <td>whole wheat pasta</td>\n",
       "      <td>olive oil</td>\n",
       "      <td>0.007148</td>\n",
       "      <td>0.278195</td>\n",
       "      <td>3.988753</td>\n",
       "    </tr>\n",
       "    <tr>\n",
       "      <th>13</th>\n",
       "      <td>pasta</td>\n",
       "      <td>shrimp</td>\n",
       "      <td>0.004830</td>\n",
       "      <td>0.316456</td>\n",
       "      <td>4.356316</td>\n",
       "    </tr>\n",
       "  </tbody>\n",
       "</table>\n",
       "</div>"
      ],
      "text/plain": [
       "                baseitem            additem   support  cofidence      lift\n",
       "0                almonds            burgers  0.005796   0.285714  3.250235\n",
       "1            blueberries        ground beef  0.003091   0.313725  3.029558\n",
       "2            light cream            chicken  0.004444   0.280488  4.508711\n",
       "3            light cream        cooking oil  0.003478   0.219512  3.812735\n",
       "4   mushroom cream sauce           escalope  0.005603   0.295918  3.638179\n",
       "5                  pasta           escalope  0.004830   0.316456  3.890676\n",
       "6   extra dark chocolate          olive oil  0.003091   0.253968  3.641384\n",
       "7          fromage blanc              honey  0.003284   0.253731  5.031852\n",
       "8        parmesan cheese  frozen vegetables  0.005796   0.361446  3.734218\n",
       "9          herb & pepper        ground beef  0.015456   0.329218  3.179166\n",
       "10          tomato sauce        ground beef  0.004830   0.324675  3.135298\n",
       "11           light cream          olive oil  0.003478   0.219512  3.147355\n",
       "12     whole wheat pasta          olive oil  0.007148   0.278195  3.988753\n",
       "13                 pasta             shrimp  0.004830   0.316456  4.356316"
      ]
     },
     "execution_count": 19,
     "metadata": {},
     "output_type": "execute_result"
    }
   ],
   "source": [
    "newdata = pd.concat([d1,d2,d3,d4,d5],axis=1)\n",
    "newdata.columns = ['baseitem','additem','support','cofidence','lift']\n",
    "newdata\n"
   ]
  },
  {
   "cell_type": "code",
   "execution_count": 20,
   "id": "94d56001-751f-44b9-842d-4215f79de8aa",
   "metadata": {},
   "outputs": [
    {
     "name": "stdout",
     "output_type": "stream",
     "text": [
      "frozenset({'almonds'})\n"
     ]
    }
   ],
   "source": [
    "print(max(a))"
   ]
  },
  {
   "cell_type": "code",
   "execution_count": 21,
   "id": "4e04ce26-9ca5-4504-9a03-16d1021e0b96",
   "metadata": {},
   "outputs": [
    {
     "name": "stdout",
     "output_type": "stream",
     "text": [
      "frozenset({'burgers'})\n"
     ]
    }
   ],
   "source": [
    "print(max(b))"
   ]
  },
  {
   "cell_type": "code",
   "execution_count": 22,
   "id": "ebab5557-9f53-4b8f-bd1b-9480e140c901",
   "metadata": {},
   "outputs": [
    {
     "name": "stdout",
     "output_type": "stream",
     "text": [
      "0.015455950540958269\n"
     ]
    }
   ],
   "source": [
    "print(max(c))"
   ]
  },
  {
   "cell_type": "code",
   "execution_count": 23,
   "id": "7d0ec2e2-c61d-4564-b760-f75667b206a8",
   "metadata": {},
   "outputs": [
    {
     "name": "stdout",
     "output_type": "stream",
     "text": [
      "0.3614457831325301\n"
     ]
    }
   ],
   "source": [
    "print(max(d))"
   ]
  },
  {
   "cell_type": "code",
   "execution_count": 24,
   "id": "1c1f555e-72f4-46d5-85b9-9ca005f134b3",
   "metadata": {},
   "outputs": [],
   "source": [
    "#for light cream item we can observe it is having more confidence values with olive oil.\n",
    "\n",
    "##here we can observe for pasta as base item shrimp and escalope are having more confidence levels.\n",
    "\n",
    "##for parmesan cheese , frozen vegetables is having the confidence value of 0.36\n",
    "\n",
    "##fro tomato sause , the item ground beef item is showing the confidence of value 0.32\n",
    "\n",
    "##for blueberries the confidence value is 0.313 with respect to the item ground beef"
   ]
  },
  {
   "cell_type": "code",
   "execution_count": 25,
   "id": "683c3233-2efa-4e93-b59d-25f7cf38f98b",
   "metadata": {},
   "outputs": [
    {
     "name": "stdout",
     "output_type": "stream",
     "text": [
      "5.031852233087436\n"
     ]
    }
   ],
   "source": [
    "print(max(e))"
   ]
  },
  {
   "cell_type": "code",
   "execution_count": 26,
   "id": "a7383ab5-9f6a-47e1-bb23-1b3273ae9109",
   "metadata": {},
   "outputs": [],
   "source": [
    "## we can observe the lift value of 5 which is the highest from the rules \n",
    "##with the items as fromage as base item and additional item as honey"
   ]
  },
  {
   "cell_type": "code",
   "execution_count": 27,
   "id": "4874e771-1807-43c7-95b5-084cf38ba829",
   "metadata": {},
   "outputs": [
    {
     "name": "stdout",
     "output_type": "stream",
     "text": [
      "3.029558091893474\n"
     ]
    }
   ],
   "source": [
    "print(min(e))"
   ]
  },
  {
   "cell_type": "code",
   "execution_count": 28,
   "id": "c8eefc10-7f84-4fed-82ed-a7abf32fe93b",
   "metadata": {},
   "outputs": [],
   "source": [
    "#here we can observe that blue berries item is increasing the lift of 3 times the item ground beef."
   ]
  },
  {
   "cell_type": "code",
   "execution_count": 29,
   "id": "46995647-0b55-479e-84b2-140e5ab55c0a",
   "metadata": {},
   "outputs": [],
   "source": [
    "##2nd kind of implementation"
   ]
  },
  {
   "cell_type": "code",
   "execution_count": 128,
   "id": "1ac5eaaf-ca60-4d55-b930-4761f4bad2b8",
   "metadata": {},
   "outputs": [],
   "source": [
    "##SETTING THRESHOLD VALUES\n",
    "\n",
    "#SUPPORT = 0.01\n",
    "#CONFIDENCE=0.2\n",
    "#LIFT=0.3"
   ]
  },
  {
   "cell_type": "code",
   "execution_count": 129,
   "id": "95e22dac-be3b-413c-9a8e-84a8e3852bf6",
   "metadata": {},
   "outputs": [],
   "source": [
    "#Getting the list of transactions from the dataset\n",
    "transactions2 = []\n",
    "for i in range(0, len(data_cleaned)):\n",
    "    transactions2.append([str(df.values[i,j]) for j in range(0, len(data_cleaned.columns))])"
   ]
  },
  {
   "cell_type": "code",
   "execution_count": 130,
   "id": "e618e2d7-4378-4812-a3f5-238f74d9f511",
   "metadata": {},
   "outputs": [],
   "source": [
    "from apyori import apriori\n",
    "rules1 = apriori(transactions = transactions2,\n",
    "                min_support = 0.005,\n",
    "                min_confidence = 0.2,\n",
    "                min_lift = 3,\n",
    "                min_length = 2, max_length = 2)"
   ]
  },
  {
   "cell_type": "code",
   "execution_count": 131,
   "id": "7df7a19b-9fab-493b-98dc-9cd122dbb65a",
   "metadata": {},
   "outputs": [
    {
     "name": "stdout",
     "output_type": "stream",
     "text": [
      "<generator object apriori at 0x0000020F8089BE20>\n"
     ]
    }
   ],
   "source": [
    "print(rules1)"
   ]
  },
  {
   "cell_type": "code",
   "execution_count": 132,
   "id": "b9798446-1f37-4008-93b8-1ce32c53e39f",
   "metadata": {},
   "outputs": [
    {
     "data": {
      "text/plain": [
       "[RelationRecord(items=frozenset({'almonds', 'burgers'}), support=0.005795981452859351, ordered_statistics=[OrderedStatistic(items_base=frozenset({'almonds'}), items_add=frozenset({'burgers'}), confidence=0.28571428571428575, lift=3.250235478806908)]),\n",
       " RelationRecord(items=frozenset({'mushroom cream sauce', 'escalope'}), support=0.0056027820710973725, ordered_statistics=[OrderedStatistic(items_base=frozenset({'mushroom cream sauce'}), items_add=frozenset({'escalope'}), confidence=0.29591836734693877, lift=3.638179262203694)]),\n",
       " RelationRecord(items=frozenset({'parmesan cheese', 'frozen vegetables'}), support=0.005795981452859351, ordered_statistics=[OrderedStatistic(items_base=frozenset({'parmesan cheese'}), items_add=frozenset({'frozen vegetables'}), confidence=0.3614457831325301, lift=3.7342183103672175)]),\n",
       " RelationRecord(items=frozenset({'ground beef', 'herb & pepper'}), support=0.015455950540958269, ordered_statistics=[OrderedStatistic(items_base=frozenset({'herb & pepper'}), items_add=frozenset({'ground beef'}), confidence=0.3292181069958848, lift=3.179165898900559)]),\n",
       " RelationRecord(items=frozenset({'whole wheat pasta', 'olive oil'}), support=0.0071483771251932, ordered_statistics=[OrderedStatistic(items_base=frozenset({'whole wheat pasta'}), items_add=frozenset({'olive oil'}), confidence=0.2781954887218045, lift=3.9887530460500273)])]"
      ]
     },
     "execution_count": 132,
     "metadata": {},
     "output_type": "execute_result"
    }
   ],
   "source": [
    "results1 = list(rules1)\n",
    "results1"
   ]
  },
  {
   "cell_type": "code",
   "execution_count": 133,
   "id": "922afe0f-1d4c-47d7-9c8e-5604c86b6eae",
   "metadata": {},
   "outputs": [
    {
     "data": {
      "text/plain": [
       "5"
      ]
     },
     "execution_count": 133,
     "metadata": {},
     "output_type": "execute_result"
    }
   ],
   "source": [
    "\n",
    "len(results1)"
   ]
  },
  {
   "cell_type": "code",
   "execution_count": 134,
   "id": "2f30c56e-0ee5-4eb1-a588-8b98071d1637",
   "metadata": {},
   "outputs": [
    {
     "data": {
      "text/plain": [
       "RelationRecord(items=frozenset({'almonds', 'burgers'}), support=0.005795981452859351, ordered_statistics=[OrderedStatistic(items_base=frozenset({'almonds'}), items_add=frozenset({'burgers'}), confidence=0.28571428571428575, lift=3.250235478806908)])"
      ]
     },
     "execution_count": 134,
     "metadata": {},
     "output_type": "execute_result"
    }
   ],
   "source": [
    "results1[0]"
   ]
  },
  {
   "cell_type": "code",
   "execution_count": 135,
   "id": "ba48c2c2-7c85-44c7-bf5e-84c2e7540131",
   "metadata": {},
   "outputs": [
    {
     "data": {
      "text/plain": [
       "RelationRecord(items=frozenset({'mushroom cream sauce', 'escalope'}), support=0.0056027820710973725, ordered_statistics=[OrderedStatistic(items_base=frozenset({'mushroom cream sauce'}), items_add=frozenset({'escalope'}), confidence=0.29591836734693877, lift=3.638179262203694)])"
      ]
     },
     "execution_count": 135,
     "metadata": {},
     "output_type": "execute_result"
    }
   ],
   "source": [
    "results1[1]"
   ]
  },
  {
   "cell_type": "code",
   "execution_count": 136,
   "id": "c63be6ab-eadf-44c6-afb7-d6800a2c0181",
   "metadata": {},
   "outputs": [
    {
     "data": {
      "text/plain": [
       "RelationRecord(items=frozenset({'parmesan cheese', 'frozen vegetables'}), support=0.005795981452859351, ordered_statistics=[OrderedStatistic(items_base=frozenset({'parmesan cheese'}), items_add=frozenset({'frozen vegetables'}), confidence=0.3614457831325301, lift=3.7342183103672175)])"
      ]
     },
     "execution_count": 136,
     "metadata": {},
     "output_type": "execute_result"
    }
   ],
   "source": [
    "results1[2]"
   ]
  },
  {
   "cell_type": "code",
   "execution_count": 137,
   "id": "1d390d58-a444-4361-85d9-ca7367bc1d30",
   "metadata": {},
   "outputs": [
    {
     "data": {
      "text/plain": [
       "RelationRecord(items=frozenset({'ground beef', 'herb & pepper'}), support=0.015455950540958269, ordered_statistics=[OrderedStatistic(items_base=frozenset({'herb & pepper'}), items_add=frozenset({'ground beef'}), confidence=0.3292181069958848, lift=3.179165898900559)])"
      ]
     },
     "execution_count": 137,
     "metadata": {},
     "output_type": "execute_result"
    }
   ],
   "source": [
    "results1[3]"
   ]
  },
  {
   "cell_type": "code",
   "execution_count": 119,
   "id": "5c911343-922d-4403-96d8-5f670bf5c932",
   "metadata": {},
   "outputs": [
    {
     "name": "stdout",
     "output_type": "stream",
     "text": [
      "RelationRecord(items=frozenset({'almonds', 'burgers'}), support=0.005795981452859351, ordered_statistics=[OrderedStatistic(items_base=frozenset({'almonds'}), items_add=frozenset({'burgers'}), confidence=0.28571428571428575, lift=3.250235478806908)])\n",
      "RelationRecord(items=frozenset({'mushroom cream sauce', 'escalope'}), support=0.0056027820710973725, ordered_statistics=[OrderedStatistic(items_base=frozenset({'mushroom cream sauce'}), items_add=frozenset({'escalope'}), confidence=0.29591836734693877, lift=3.638179262203694)])\n",
      "RelationRecord(items=frozenset({'parmesan cheese', 'frozen vegetables'}), support=0.005795981452859351, ordered_statistics=[OrderedStatistic(items_base=frozenset({'parmesan cheese'}), items_add=frozenset({'frozen vegetables'}), confidence=0.3614457831325301, lift=3.7342183103672175)])\n",
      "RelationRecord(items=frozenset({'ground beef', 'herb & pepper'}), support=0.015455950540958269, ordered_statistics=[OrderedStatistic(items_base=frozenset({'herb & pepper'}), items_add=frozenset({'ground beef'}), confidence=0.3292181069958848, lift=3.179165898900559)])\n",
      "RelationRecord(items=frozenset({'whole wheat pasta', 'olive oil'}), support=0.0071483771251932, ordered_statistics=[OrderedStatistic(items_base=frozenset({'whole wheat pasta'}), items_add=frozenset({'olive oil'}), confidence=0.2781954887218045, lift=3.9887530460500273)])\n"
     ]
    }
   ],
   "source": [
    "for i in range(0,5):\n",
    "    print(results1[i])"
   ]
  },
  {
   "cell_type": "code",
   "execution_count": 138,
   "id": "dd18f789-9802-40d0-8258-fef8ef686fe6",
   "metadata": {},
   "outputs": [
    {
     "data": {
      "text/plain": [
       "3.250235478806908"
      ]
     },
     "execution_count": 138,
     "metadata": {},
     "output_type": "execute_result"
    }
   ],
   "source": [
    "results1[0][1]        #support\n",
    "results1[0][2][0][0]  #base item\n",
    "results1[0][2][0][1]  #add item\n",
    "results1[0][2][0][2]  #confidence\n",
    "results1[0][2][0][3]  #lift"
   ]
  },
  {
   "cell_type": "code",
   "execution_count": 139,
   "id": "9c383ea9-24a4-4a11-b0bf-605c205b5ad7",
   "metadata": {},
   "outputs": [],
   "source": [
    "#let us consider the array format.\n",
    "a1 = []\n",
    "b1 = []\n",
    "c1 = []\n",
    "d1 = []\n",
    "e1 = []"
   ]
  },
  {
   "cell_type": "code",
   "execution_count": 140,
   "id": "111e9b1e-029e-4db6-b1c9-be4ce55031ba",
   "metadata": {},
   "outputs": [],
   "source": [
    "for i in range(0,5):\n",
    "    c1.append(results1[i][1])       # support\n",
    "    a1.append(results1[i][2][0][0]) # base item\n",
    "    b1.append(results1[i][2][0][1]) # add item\n",
    "    d1.append(results1[i][2][0][2]) # confidence\n",
    "    e1.append(results1[i][2][0][3]) # lift"
   ]
  },
  {
   "cell_type": "code",
   "execution_count": 141,
   "id": "39847bf0-8923-4250-a1d5-363de83d8f80",
   "metadata": {},
   "outputs": [],
   "source": [
    "##converting into data frame\n",
    "d11 = pd.DataFrame(a1)\n",
    "d21 = pd.DataFrame(b1)\n",
    "d31 = pd.DataFrame(c1)\n",
    "d41 = pd.DataFrame(d1)\n",
    "d51 = pd.DataFrame(e1)"
   ]
  },
  {
   "cell_type": "code",
   "execution_count": 142,
   "id": "2d82e9fb-67e0-4354-9e40-3caa5bf60dd3",
   "metadata": {},
   "outputs": [
    {
     "data": {
      "text/html": [
       "<div>\n",
       "<style scoped>\n",
       "    .dataframe tbody tr th:only-of-type {\n",
       "        vertical-align: middle;\n",
       "    }\n",
       "\n",
       "    .dataframe tbody tr th {\n",
       "        vertical-align: top;\n",
       "    }\n",
       "\n",
       "    .dataframe thead th {\n",
       "        text-align: right;\n",
       "    }\n",
       "</style>\n",
       "<table border=\"1\" class=\"dataframe\">\n",
       "  <thead>\n",
       "    <tr style=\"text-align: right;\">\n",
       "      <th></th>\n",
       "      <th>baseitem</th>\n",
       "      <th>additem</th>\n",
       "      <th>support</th>\n",
       "      <th>cofidence</th>\n",
       "      <th>lift</th>\n",
       "    </tr>\n",
       "  </thead>\n",
       "  <tbody>\n",
       "    <tr>\n",
       "      <th>0</th>\n",
       "      <td>almonds</td>\n",
       "      <td>burgers</td>\n",
       "      <td>0.005796</td>\n",
       "      <td>0.285714</td>\n",
       "      <td>3.250235</td>\n",
       "    </tr>\n",
       "    <tr>\n",
       "      <th>1</th>\n",
       "      <td>mushroom cream sauce</td>\n",
       "      <td>escalope</td>\n",
       "      <td>0.005603</td>\n",
       "      <td>0.295918</td>\n",
       "      <td>3.638179</td>\n",
       "    </tr>\n",
       "    <tr>\n",
       "      <th>2</th>\n",
       "      <td>parmesan cheese</td>\n",
       "      <td>frozen vegetables</td>\n",
       "      <td>0.005796</td>\n",
       "      <td>0.361446</td>\n",
       "      <td>3.734218</td>\n",
       "    </tr>\n",
       "    <tr>\n",
       "      <th>3</th>\n",
       "      <td>herb &amp; pepper</td>\n",
       "      <td>ground beef</td>\n",
       "      <td>0.015456</td>\n",
       "      <td>0.329218</td>\n",
       "      <td>3.179166</td>\n",
       "    </tr>\n",
       "    <tr>\n",
       "      <th>4</th>\n",
       "      <td>whole wheat pasta</td>\n",
       "      <td>olive oil</td>\n",
       "      <td>0.007148</td>\n",
       "      <td>0.278195</td>\n",
       "      <td>3.988753</td>\n",
       "    </tr>\n",
       "  </tbody>\n",
       "</table>\n",
       "</div>"
      ],
      "text/plain": [
       "               baseitem            additem   support  cofidence      lift\n",
       "0               almonds            burgers  0.005796   0.285714  3.250235\n",
       "1  mushroom cream sauce           escalope  0.005603   0.295918  3.638179\n",
       "2       parmesan cheese  frozen vegetables  0.005796   0.361446  3.734218\n",
       "3         herb & pepper        ground beef  0.015456   0.329218  3.179166\n",
       "4     whole wheat pasta          olive oil  0.007148   0.278195  3.988753"
      ]
     },
     "execution_count": 142,
     "metadata": {},
     "output_type": "execute_result"
    }
   ],
   "source": [
    "newdata1 = pd.concat([d11,d21,d31,d41,d51],axis=1)\n",
    "newdata1.columns = ['baseitem','additem','support','cofidence','lift']\n",
    "newdata1\n"
   ]
  },
  {
   "cell_type": "code",
   "execution_count": null,
   "id": "996a06c2-3bd6-4033-99c1-f0e0e1d86522",
   "metadata": {},
   "outputs": [],
   "source": [
    "##hence we changed the threshold values and also obtained new rules.\n",
    "##therefore we can say based on different threshold values the rules will also be changed.\n",
    " "
   ]
  },
  {
   "cell_type": "code",
   "execution_count": null,
   "id": "21376830-163e-4657-ac93-46b7dcaadc78",
   "metadata": {},
   "outputs": [],
   "source": [
    "#Interview Questions:\n",
    "#What is lift and why is it important in Association rules?\n"
   ]
  },
  {
   "cell_type": "code",
   "execution_count": null,
   "id": "e245adfe-6a42-4ecc-8387-8ecb407dac85",
   "metadata": {},
   "outputs": [],
   "source": [
    "#Lift is a measure of how much more likely two items are to be bought together than if they were bought independently.\n",
    "#It is important because it helps identify strong associations that are not just due to chance."
   ]
  },
  {
   "cell_type": "code",
   "execution_count": null,
   "id": "f9fcd365-9165-4770-9584-9b5b82cc2499",
   "metadata": {},
   "outputs": [],
   "source": [
    "#What is support and Confidence. How do you calculate them?"
   ]
  },
  {
   "cell_type": "code",
   "execution_count": null,
   "id": "b760984a-1496-40cf-9cc8-f42eba3951c1",
   "metadata": {},
   "outputs": [],
   "source": [
    "#Support is the proportion of transactions that contain a particular itemset. It is calculated as \n",
    "\n",
    "#support(𝐴)=Number of transactions containing 𝐴/Total number of transactions\n",
    "\n",
    "#Confidence is a measure of the reliability of the inference made by a rule. It is calculated as \n",
    "\n",
    "#confidence(𝐴→𝐵)=support(𝐴∪𝐵)/support(𝐴)\n",
    "\n",
    "​\n",
    " ."
   ]
  },
  {
   "cell_type": "code",
   "execution_count": null,
   "id": "05ec9ea5-e1c0-4c4f-9c42-8d83cd27059e",
   "metadata": {},
   "outputs": [],
   "source": [
    "#What are some limitations or challenges of Association rules mining?"
   ]
  },
  {
   "cell_type": "code",
   "execution_count": null,
   "id": "030f6b4a-c578-4a81-a723-4c880f6b5ae5",
   "metadata": {},
   "outputs": [],
   "source": [
    "#It can produce a large number of rules, many of which may not be interesting or useful.\n",
    "\n",
    "#It can be computationally expensive, especially with large datasets.\n",
    "\n",
    "#The choice of support and confidence thresholds can greatly affect the results and may require domain knowledge to set appropriately.\n"
   ]
  }
 ],
 "metadata": {
  "kernelspec": {
   "display_name": "Python 3 (ipykernel)",
   "language": "python",
   "name": "python3"
  },
  "language_info": {
   "codemirror_mode": {
    "name": "ipython",
    "version": 3
   },
   "file_extension": ".py",
   "mimetype": "text/x-python",
   "name": "python",
   "nbconvert_exporter": "python",
   "pygments_lexer": "ipython3",
   "version": "3.12.4"
  }
 },
 "nbformat": 4,
 "nbformat_minor": 5
}
