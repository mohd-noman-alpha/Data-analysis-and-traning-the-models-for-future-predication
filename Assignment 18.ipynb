{
 "cells": [
  {
   "cell_type": "code",
   "execution_count": 1,
   "id": "64fbabb1-d44f-46fe-88cb-c1c3703d4703",
   "metadata": {},
   "outputs": [
    {
     "name": "stdout",
     "output_type": "stream",
     "text": [
      "   letter      xbox      ybox  width  height  onpix  xbar  ybar  x2bar  y2bar  \\\n",
      "0      19  0.133333  0.533333      3       5      1     8    13      0      6   \n",
      "1       8  0.333333  0.800000      3       7      2    10     5      5      4   \n",
      "2       3  0.266667  0.733333      6       8      6    10     6      2      6   \n",
      "3      13  0.466667  0.733333      6       6      3     5     9      4      6   \n",
      "4       6  0.133333  0.066667      3       1      1     8     6      6      6   \n",
      "\n",
      "   xybar  x2ybar  xy2bar  xedge  xedgey  yedge  yedgex  \n",
      "0      6      10       8      0       8      0       8  \n",
      "1     13       3       9      2       8      4      10  \n",
      "2     10       3       7      3       7      3       9  \n",
      "3      4       4      10      6      10      2       8  \n",
      "4      6       5       9      1       7      5      10  \n"
     ]
    }
   ],
   "source": [
    "#Importing the data\n",
    "import pandas as pd\n",
    "\n",
    "df = pd.read_csv(\"C:\\\\Users\\\\moham\\\\Desktop\\\\Alphabets_data.csv\") \n",
    "\n",
    "print(df.head())"
   ]
  },
  {
   "cell_type": "code",
   "execution_count": 2,
   "id": "856944df-ee84-445b-af55-b7c24ac686df",
   "metadata": {},
   "outputs": [
    {
     "name": "stdout",
     "output_type": "stream",
     "text": [
      "Number of samples: 20000\n",
      "Number of features: 17\n",
      "Classes: [19  8  3 13  6 18  1  0  9 12 23 14 17  5  2  7 22 11 15  4 21 24 16 20\n",
      " 10 25]\n"
     ]
    }
   ],
   "source": [
    "# . Summarize its key features such as the number of samples, lfeatures, and classes.label encode the data column letter and save indf\n",
    "\n",
    "from sklearn.preprocessing import LabelEncoder\n",
    "\n",
    "# Summarize key features\n",
    "print(f\"Number of samples: {df.shape[0]}\")\n",
    "print(f\"Number of features: {df.shape[1]}\")\n",
    "print(f\"Classes: {df['letter'].unique()}\")\n",
    "\n",
    "# Label encode the 'letter' column\n",
    "le = LabelEncoder()\n",
    "df['letter'] = le.fit_transform(df['letter'])\n",
    "\n",
    "# Save the modified DataFrame\n",
    "df.to_csv(\"C:\\\\Users\\\\moham\\\\Desktop\\\\Alphabets_data.csv\", index=False)\n"
   ]
  },
  {
   "cell_type": "code",
   "execution_count": 3,
   "id": "bb6dd8be-8f08-407c-9d73-80b563182db7",
   "metadata": {},
   "outputs": [
    {
     "name": "stdout",
     "output_type": "stream",
     "text": [
      "letter    0\n",
      "xbox      0\n",
      "ybox      0\n",
      "width     0\n",
      "height    0\n",
      "onpix     0\n",
      "xbar      0\n",
      "ybar      0\n",
      "x2bar     0\n",
      "y2bar     0\n",
      "xybar     0\n",
      "x2ybar    0\n",
      "xy2bar    0\n",
      "xedge     0\n",
      "xedgey    0\n",
      "yedge     0\n",
      "yedgex    0\n",
      "dtype: int64\n",
      "   letter      xbox      ybox  width  height  onpix  xbar  ybar  x2bar  y2bar  \\\n",
      "0      19  0.133333  0.533333      3       5      1     8    13      0      6   \n",
      "1       8  0.333333  0.800000      3       7      2    10     5      5      4   \n",
      "2       3  0.266667  0.733333      6       8      6    10     6      2      6   \n",
      "3      13  0.466667  0.733333      6       6      3     5     9      4      6   \n",
      "4       6  0.133333  0.066667      3       1      1     8     6      6      6   \n",
      "\n",
      "   xybar  x2ybar  xy2bar  xedge  xedgey  yedge  yedgex  \n",
      "0      6      10       8      0       8      0       8  \n",
      "1     13       3       9      2       8      4      10  \n",
      "2     10       3       7      3       7      3       9  \n",
      "3      4       4      10      6      10      2       8  \n",
      "4      6       5       9      1       7      5      10  \n"
     ]
    }
   ],
   "source": [
    "# prompt: ●\tExecute necessary data preprocessing steps including data normalization, managing missing values.\n",
    "\n",
    "import pandas as pd\n",
    "from sklearn.preprocessing import MinMaxScaler\n",
    "from sklearn.impute import SimpleImputer\n",
    "\n",
    "# Load the encoded DataFrame\n",
    "df = pd.read_csv(\"C:\\\\Users\\\\moham\\\\Desktop\\\\Alphabets_data.csv\")\n",
    "\n",
    "# Check for missing values\n",
    "print(df.isnull().sum())\n",
    "\n",
    "# Impute missing values (if any) using the mean\n",
    "imputer = SimpleImputer(strategy='mean')\n",
    "df[['xbox', 'ybox']] = imputer.fit_transform(df[['xbox', 'ybox']])\n",
    "\n",
    "# Normalize the 'xbox' and 'ybox' features using Min-Max scaling\n",
    "scaler = MinMaxScaler()\n",
    "df[['xbox', 'ybox']] = scaler.fit_transform(df[['xbox', 'ybox']])\n",
    "\n",
    "\n",
    "# Save the preprocessed DataFrame\n",
    "df.to_csv(\"C:\\\\Users\\\\moham\\\\Desktop\\\\Alphabets_data.csv\", index=False)\n",
    "\n",
    "print(df.head())\n",
    "\n"
   ]
  },
  {
   "cell_type": "code",
   "execution_count": 4,
   "id": "177c4193-9e46-4e6b-8bab-22a35cb2db3d",
   "metadata": {},
   "outputs": [
    {
     "name": "stderr",
     "output_type": "stream",
     "text": [
      "C:\\Users\\moham\\AppData\\Roaming\\Python\\Python312\\site-packages\\keras\\src\\layers\\core\\dense.py:87: UserWarning: Do not pass an `input_shape`/`input_dim` argument to a layer. When using Sequential models, prefer using an `Input(shape)` object as the first layer in the model instead.\n",
      "  super().__init__(activity_regularizer=activity_regularizer, **kwargs)\n"
     ]
    },
    {
     "name": "stdout",
     "output_type": "stream",
     "text": [
      "Epoch 1/10\n",
      "\u001b[1m400/400\u001b[0m \u001b[32m━━━━━━━━━━━━━━━━━━━━\u001b[0m\u001b[37m\u001b[0m \u001b[1m6s\u001b[0m 5ms/step - accuracy: 0.2093 - loss: 2.9243 - val_accuracy: 0.6031 - val_loss: 1.4945\n",
      "Epoch 2/10\n",
      "\u001b[1m400/400\u001b[0m \u001b[32m━━━━━━━━━━━━━━━━━━━━\u001b[0m\u001b[37m\u001b[0m \u001b[1m2s\u001b[0m 3ms/step - accuracy: 0.6220 - loss: 1.3365 - val_accuracy: 0.7153 - val_loss: 1.0700\n",
      "Epoch 3/10\n",
      "\u001b[1m400/400\u001b[0m \u001b[32m━━━━━━━━━━━━━━━━━━━━\u001b[0m\u001b[37m\u001b[0m \u001b[1m3s\u001b[0m 3ms/step - accuracy: 0.7145 - loss: 1.0148 - val_accuracy: 0.7431 - val_loss: 0.9282\n",
      "Epoch 4/10\n",
      "\u001b[1m400/400\u001b[0m \u001b[32m━━━━━━━━━━━━━━━━━━━━\u001b[0m\u001b[37m\u001b[0m \u001b[1m2s\u001b[0m 4ms/step - accuracy: 0.7544 - loss: 0.8663 - val_accuracy: 0.7775 - val_loss: 0.8318\n",
      "Epoch 5/10\n",
      "\u001b[1m400/400\u001b[0m \u001b[32m━━━━━━━━━━━━━━━━━━━━\u001b[0m\u001b[37m\u001b[0m \u001b[1m2s\u001b[0m 3ms/step - accuracy: 0.7753 - loss: 0.7865 - val_accuracy: 0.7884 - val_loss: 0.7664\n",
      "Epoch 6/10\n",
      "\u001b[1m400/400\u001b[0m \u001b[32m━━━━━━━━━━━━━━━━━━━━\u001b[0m\u001b[37m\u001b[0m \u001b[1m2s\u001b[0m 4ms/step - accuracy: 0.7915 - loss: 0.7291 - val_accuracy: 0.7894 - val_loss: 0.7387\n",
      "Epoch 7/10\n",
      "\u001b[1m400/400\u001b[0m \u001b[32m━━━━━━━━━━━━━━━━━━━━\u001b[0m\u001b[37m\u001b[0m \u001b[1m3s\u001b[0m 4ms/step - accuracy: 0.8011 - loss: 0.6908 - val_accuracy: 0.8012 - val_loss: 0.6959\n",
      "Epoch 8/10\n",
      "\u001b[1m400/400\u001b[0m \u001b[32m━━━━━━━━━━━━━━━━━━━━\u001b[0m\u001b[37m\u001b[0m \u001b[1m1s\u001b[0m 4ms/step - accuracy: 0.8068 - loss: 0.6520 - val_accuracy: 0.8141 - val_loss: 0.6572\n",
      "Epoch 9/10\n",
      "\u001b[1m400/400\u001b[0m \u001b[32m━━━━━━━━━━━━━━━━━━━━\u001b[0m\u001b[37m\u001b[0m \u001b[1m2s\u001b[0m 4ms/step - accuracy: 0.8139 - loss: 0.6243 - val_accuracy: 0.8172 - val_loss: 0.6317\n",
      "Epoch 10/10\n",
      "\u001b[1m400/400\u001b[0m \u001b[32m━━━━━━━━━━━━━━━━━━━━\u001b[0m\u001b[37m\u001b[0m \u001b[1m3s\u001b[0m 5ms/step - accuracy: 0.8266 - loss: 0.5788 - val_accuracy: 0.8219 - val_loss: 0.6127\n",
      "\u001b[1m125/125\u001b[0m \u001b[32m━━━━━━━━━━━━━━━━━━━━\u001b[0m\u001b[37m\u001b[0m \u001b[1m0s\u001b[0m 3ms/step\n",
      "Accuracy: 0.831\n"
     ]
    }
   ],
   "source": [
    "#  missing values.\n",
    "# 2. Model Implementation\n",
    "# ●\tConstruct a basic ANN model using your chosen high-level neural network library. Ensure your model includes at least one hidden layer.\n",
    "# ●\tDivide the dataset into training and test sets.\n",
    "# ●\tTrain your model on the training set and then use it to make predictions on the test set.\n",
    "\n",
    "import pandas as pd\n",
    "from sklearn.model_selection import train_test_split\n",
    "from sklearn.metrics import accuracy_score\n",
    "from tensorflow import keras\n",
    "from tensorflow.keras import layers\n",
    "\n",
    "# Load the preprocessed DataFrame\n",
    "df = pd.read_csv(\"C:\\\\Users\\\\moham\\\\Desktop\\\\Alphabets_data.csv\")\n",
    "\n",
    "# Separate features (X) and target (y)\n",
    "X = df.drop('letter', axis=1)\n",
    "y = df['letter']\n",
    "\n",
    "# Split the data into training and testing sets\n",
    "X_train, X_test, y_train, y_test = train_test_split(X, y, test_size=0.2, random_state=42)\n",
    "\n",
    "# Build the ANN model\n",
    "model = keras.Sequential([\n",
    "    layers.Dense(64, activation='relu', input_shape=(X_train.shape[1],)),\n",
    "    layers.Dense(32, activation='relu'),\n",
    "    layers.Dense(26, activation='softmax')  # Output layer with 26 classes (letters)\n",
    "])\n",
    "\n",
    "# Compile the model\n",
    "model.compile(optimizer='adam',\n",
    "              loss='sparse_categorical_crossentropy',\n",
    "              metrics=['accuracy'])\n",
    "\n",
    "# Train the model\n",
    "model.fit(X_train, y_train, epochs=10, batch_size=32, validation_split=0.2)\n",
    "\n",
    "# Make predictions on the test set\n",
    "y_pred = model.predict(X_test)\n",
    "y_pred_classes = [i.argmax() for i in y_pred]\n",
    "\n",
    "# Evaluate the model\n",
    "accuracy = accuracy_score(y_test, y_pred_classes)\n",
    "print(f\"Accuracy: {accuracy}\")\n"
   ]
  },
  {
   "cell_type": "code",
   "execution_count": 5,
   "id": "7d545b1b-293f-47a0-8db8-731561fd4485",
   "metadata": {},
   "outputs": [
    {
     "name": "stderr",
     "output_type": "stream",
     "text": [
      "C:\\Users\\moham\\AppData\\Roaming\\Python\\Python312\\site-packages\\keras\\src\\layers\\core\\dense.py:87: UserWarning: Do not pass an `input_shape`/`input_dim` argument to a layer. When using Sequential models, prefer using an `Input(shape)` object as the first layer in the model instead.\n",
      "  super().__init__(activity_regularizer=activity_regularizer, **kwargs)\n"
     ]
    },
    {
     "name": "stdout",
     "output_type": "stream",
     "text": [
      "\u001b[1m125/125\u001b[0m \u001b[32m━━━━━━━━━━━━━━━━━━━━\u001b[0m\u001b[37m\u001b[0m \u001b[1m1s\u001b[0m 4ms/step\n"
     ]
    },
    {
     "name": "stderr",
     "output_type": "stream",
     "text": [
      "C:\\Users\\moham\\AppData\\Roaming\\Python\\Python312\\site-packages\\keras\\src\\layers\\core\\dense.py:87: UserWarning: Do not pass an `input_shape`/`input_dim` argument to a layer. When using Sequential models, prefer using an `Input(shape)` object as the first layer in the model instead.\n",
      "  super().__init__(activity_regularizer=activity_regularizer, **kwargs)\n"
     ]
    },
    {
     "name": "stdout",
     "output_type": "stream",
     "text": [
      "\u001b[1m125/125\u001b[0m \u001b[32m━━━━━━━━━━━━━━━━━━━━\u001b[0m\u001b[37m\u001b[0m \u001b[1m1s\u001b[0m 3ms/step\n"
     ]
    },
    {
     "name": "stderr",
     "output_type": "stream",
     "text": [
      "C:\\Users\\moham\\AppData\\Roaming\\Python\\Python312\\site-packages\\keras\\src\\layers\\core\\dense.py:87: UserWarning: Do not pass an `input_shape`/`input_dim` argument to a layer. When using Sequential models, prefer using an `Input(shape)` object as the first layer in the model instead.\n",
      "  super().__init__(activity_regularizer=activity_regularizer, **kwargs)\n"
     ]
    },
    {
     "name": "stdout",
     "output_type": "stream",
     "text": [
      "\u001b[1m125/125\u001b[0m \u001b[32m━━━━━━━━━━━━━━━━━━━━\u001b[0m\u001b[37m\u001b[0m \u001b[1m0s\u001b[0m 2ms/step\n"
     ]
    },
    {
     "name": "stderr",
     "output_type": "stream",
     "text": [
      "C:\\Users\\moham\\AppData\\Roaming\\Python\\Python312\\site-packages\\keras\\src\\layers\\core\\dense.py:87: UserWarning: Do not pass an `input_shape`/`input_dim` argument to a layer. When using Sequential models, prefer using an `Input(shape)` object as the first layer in the model instead.\n",
      "  super().__init__(activity_regularizer=activity_regularizer, **kwargs)\n"
     ]
    },
    {
     "name": "stdout",
     "output_type": "stream",
     "text": [
      "\u001b[1m125/125\u001b[0m \u001b[32m━━━━━━━━━━━━━━━━━━━━\u001b[0m\u001b[37m\u001b[0m \u001b[1m0s\u001b[0m 2ms/step\n"
     ]
    },
    {
     "name": "stderr",
     "output_type": "stream",
     "text": [
      "C:\\Users\\moham\\AppData\\Roaming\\Python\\Python312\\site-packages\\keras\\src\\layers\\core\\dense.py:87: UserWarning: Do not pass an `input_shape`/`input_dim` argument to a layer. When using Sequential models, prefer using an `Input(shape)` object as the first layer in the model instead.\n",
      "  super().__init__(activity_regularizer=activity_regularizer, **kwargs)\n"
     ]
    },
    {
     "name": "stdout",
     "output_type": "stream",
     "text": [
      "\u001b[1m125/125\u001b[0m \u001b[32m━━━━━━━━━━━━━━━━━━━━\u001b[0m\u001b[37m\u001b[0m \u001b[1m0s\u001b[0m 3ms/step\n"
     ]
    },
    {
     "name": "stderr",
     "output_type": "stream",
     "text": [
      "C:\\Users\\moham\\AppData\\Roaming\\Python\\Python312\\site-packages\\keras\\src\\layers\\core\\dense.py:87: UserWarning: Do not pass an `input_shape`/`input_dim` argument to a layer. When using Sequential models, prefer using an `Input(shape)` object as the first layer in the model instead.\n",
      "  super().__init__(activity_regularizer=activity_regularizer, **kwargs)\n"
     ]
    },
    {
     "name": "stdout",
     "output_type": "stream",
     "text": [
      "\u001b[1m125/125\u001b[0m \u001b[32m━━━━━━━━━━━━━━━━━━━━\u001b[0m\u001b[37m\u001b[0m \u001b[1m1s\u001b[0m 5ms/step\n"
     ]
    },
    {
     "name": "stderr",
     "output_type": "stream",
     "text": [
      "C:\\Users\\moham\\AppData\\Roaming\\Python\\Python312\\site-packages\\keras\\src\\layers\\core\\dense.py:87: UserWarning: Do not pass an `input_shape`/`input_dim` argument to a layer. When using Sequential models, prefer using an `Input(shape)` object as the first layer in the model instead.\n",
      "  super().__init__(activity_regularizer=activity_regularizer, **kwargs)\n"
     ]
    },
    {
     "name": "stdout",
     "output_type": "stream",
     "text": [
      "\u001b[1m125/125\u001b[0m \u001b[32m━━━━━━━━━━━━━━━━━━━━\u001b[0m\u001b[37m\u001b[0m \u001b[1m2s\u001b[0m 9ms/step\n"
     ]
    },
    {
     "name": "stderr",
     "output_type": "stream",
     "text": [
      "C:\\Users\\moham\\AppData\\Roaming\\Python\\Python312\\site-packages\\keras\\src\\layers\\core\\dense.py:87: UserWarning: Do not pass an `input_shape`/`input_dim` argument to a layer. When using Sequential models, prefer using an `Input(shape)` object as the first layer in the model instead.\n",
      "  super().__init__(activity_regularizer=activity_regularizer, **kwargs)\n"
     ]
    },
    {
     "name": "stdout",
     "output_type": "stream",
     "text": [
      "\u001b[1m125/125\u001b[0m \u001b[32m━━━━━━━━━━━━━━━━━━━━\u001b[0m\u001b[37m\u001b[0m \u001b[1m0s\u001b[0m 2ms/step\n"
     ]
    },
    {
     "name": "stderr",
     "output_type": "stream",
     "text": [
      "C:\\Users\\moham\\AppData\\Roaming\\Python\\Python312\\site-packages\\keras\\src\\layers\\core\\dense.py:87: UserWarning: Do not pass an `input_shape`/`input_dim` argument to a layer. When using Sequential models, prefer using an `Input(shape)` object as the first layer in the model instead.\n",
      "  super().__init__(activity_regularizer=activity_regularizer, **kwargs)\n"
     ]
    },
    {
     "name": "stdout",
     "output_type": "stream",
     "text": [
      "\u001b[1m125/125\u001b[0m \u001b[32m━━━━━━━━━━━━━━━━━━━━\u001b[0m\u001b[37m\u001b[0m \u001b[1m0s\u001b[0m 2ms/step\n"
     ]
    },
    {
     "name": "stderr",
     "output_type": "stream",
     "text": [
      "C:\\Users\\moham\\AppData\\Roaming\\Python\\Python312\\site-packages\\keras\\src\\layers\\core\\dense.py:87: UserWarning: Do not pass an `input_shape`/`input_dim` argument to a layer. When using Sequential models, prefer using an `Input(shape)` object as the first layer in the model instead.\n",
      "  super().__init__(activity_regularizer=activity_regularizer, **kwargs)\n"
     ]
    },
    {
     "name": "stdout",
     "output_type": "stream",
     "text": [
      "\u001b[1m125/125\u001b[0m \u001b[32m━━━━━━━━━━━━━━━━━━━━\u001b[0m\u001b[37m\u001b[0m \u001b[1m0s\u001b[0m 2ms/step\n"
     ]
    },
    {
     "name": "stderr",
     "output_type": "stream",
     "text": [
      "C:\\Users\\moham\\AppData\\Roaming\\Python\\Python312\\site-packages\\keras\\src\\layers\\core\\dense.py:87: UserWarning: Do not pass an `input_shape`/`input_dim` argument to a layer. When using Sequential models, prefer using an `Input(shape)` object as the first layer in the model instead.\n",
      "  super().__init__(activity_regularizer=activity_regularizer, **kwargs)\n"
     ]
    },
    {
     "name": "stdout",
     "output_type": "stream",
     "text": [
      "\u001b[1m125/125\u001b[0m \u001b[32m━━━━━━━━━━━━━━━━━━━━\u001b[0m\u001b[37m\u001b[0m \u001b[1m1s\u001b[0m 4ms/step\n"
     ]
    },
    {
     "name": "stderr",
     "output_type": "stream",
     "text": [
      "C:\\Users\\moham\\AppData\\Roaming\\Python\\Python312\\site-packages\\keras\\src\\layers\\core\\dense.py:87: UserWarning: Do not pass an `input_shape`/`input_dim` argument to a layer. When using Sequential models, prefer using an `Input(shape)` object as the first layer in the model instead.\n",
      "  super().__init__(activity_regularizer=activity_regularizer, **kwargs)\n"
     ]
    },
    {
     "name": "stdout",
     "output_type": "stream",
     "text": [
      "\u001b[1m125/125\u001b[0m \u001b[32m━━━━━━━━━━━━━━━━━━━━\u001b[0m\u001b[37m\u001b[0m \u001b[1m0s\u001b[0m 3ms/step\n"
     ]
    },
    {
     "name": "stderr",
     "output_type": "stream",
     "text": [
      "C:\\Users\\moham\\AppData\\Roaming\\Python\\Python312\\site-packages\\keras\\src\\layers\\core\\dense.py:87: UserWarning: Do not pass an `input_shape`/`input_dim` argument to a layer. When using Sequential models, prefer using an `Input(shape)` object as the first layer in the model instead.\n",
      "  super().__init__(activity_regularizer=activity_regularizer, **kwargs)\n"
     ]
    },
    {
     "name": "stdout",
     "output_type": "stream",
     "text": [
      "\u001b[1m125/125\u001b[0m \u001b[32m━━━━━━━━━━━━━━━━━━━━\u001b[0m\u001b[37m\u001b[0m \u001b[1m1s\u001b[0m 3ms/step\n"
     ]
    },
    {
     "name": "stderr",
     "output_type": "stream",
     "text": [
      "C:\\Users\\moham\\AppData\\Roaming\\Python\\Python312\\site-packages\\keras\\src\\layers\\core\\dense.py:87: UserWarning: Do not pass an `input_shape`/`input_dim` argument to a layer. When using Sequential models, prefer using an `Input(shape)` object as the first layer in the model instead.\n",
      "  super().__init__(activity_regularizer=activity_regularizer, **kwargs)\n"
     ]
    },
    {
     "name": "stdout",
     "output_type": "stream",
     "text": [
      "\u001b[1m125/125\u001b[0m \u001b[32m━━━━━━━━━━━━━━━━━━━━\u001b[0m\u001b[37m\u001b[0m \u001b[1m0s\u001b[0m 2ms/step\n"
     ]
    },
    {
     "name": "stderr",
     "output_type": "stream",
     "text": [
      "C:\\Users\\moham\\AppData\\Roaming\\Python\\Python312\\site-packages\\keras\\src\\layers\\core\\dense.py:87: UserWarning: Do not pass an `input_shape`/`input_dim` argument to a layer. When using Sequential models, prefer using an `Input(shape)` object as the first layer in the model instead.\n",
      "  super().__init__(activity_regularizer=activity_regularizer, **kwargs)\n"
     ]
    },
    {
     "name": "stdout",
     "output_type": "stream",
     "text": [
      "\u001b[1m125/125\u001b[0m \u001b[32m━━━━━━━━━━━━━━━━━━━━\u001b[0m\u001b[37m\u001b[0m \u001b[1m1s\u001b[0m 3ms/step\n"
     ]
    },
    {
     "name": "stderr",
     "output_type": "stream",
     "text": [
      "C:\\Users\\moham\\AppData\\Roaming\\Python\\Python312\\site-packages\\keras\\src\\layers\\core\\dense.py:87: UserWarning: Do not pass an `input_shape`/`input_dim` argument to a layer. When using Sequential models, prefer using an `Input(shape)` object as the first layer in the model instead.\n",
      "  super().__init__(activity_regularizer=activity_regularizer, **kwargs)\n"
     ]
    },
    {
     "name": "stdout",
     "output_type": "stream",
     "text": [
      "\u001b[1m125/125\u001b[0m \u001b[32m━━━━━━━━━━━━━━━━━━━━\u001b[0m\u001b[37m\u001b[0m \u001b[1m1s\u001b[0m 3ms/step\n"
     ]
    },
    {
     "name": "stderr",
     "output_type": "stream",
     "text": [
      "C:\\Users\\moham\\AppData\\Roaming\\Python\\Python312\\site-packages\\keras\\src\\layers\\core\\dense.py:87: UserWarning: Do not pass an `input_shape`/`input_dim` argument to a layer. When using Sequential models, prefer using an `Input(shape)` object as the first layer in the model instead.\n",
      "  super().__init__(activity_regularizer=activity_regularizer, **kwargs)\n"
     ]
    },
    {
     "name": "stdout",
     "output_type": "stream",
     "text": [
      "\u001b[1m125/125\u001b[0m \u001b[32m━━━━━━━━━━━━━━━━━━━━\u001b[0m\u001b[37m\u001b[0m \u001b[1m0s\u001b[0m 2ms/step\n"
     ]
    },
    {
     "name": "stderr",
     "output_type": "stream",
     "text": [
      "C:\\Users\\moham\\AppData\\Roaming\\Python\\Python312\\site-packages\\keras\\src\\layers\\core\\dense.py:87: UserWarning: Do not pass an `input_shape`/`input_dim` argument to a layer. When using Sequential models, prefer using an `Input(shape)` object as the first layer in the model instead.\n",
      "  super().__init__(activity_regularizer=activity_regularizer, **kwargs)\n"
     ]
    },
    {
     "name": "stdout",
     "output_type": "stream",
     "text": [
      "\u001b[1m125/125\u001b[0m \u001b[32m━━━━━━━━━━━━━━━━━━━━\u001b[0m\u001b[37m\u001b[0m \u001b[1m0s\u001b[0m 2ms/step\n"
     ]
    },
    {
     "name": "stderr",
     "output_type": "stream",
     "text": [
      "C:\\Users\\moham\\AppData\\Roaming\\Python\\Python312\\site-packages\\keras\\src\\layers\\core\\dense.py:87: UserWarning: Do not pass an `input_shape`/`input_dim` argument to a layer. When using Sequential models, prefer using an `Input(shape)` object as the first layer in the model instead.\n",
      "  super().__init__(activity_regularizer=activity_regularizer, **kwargs)\n"
     ]
    },
    {
     "name": "stdout",
     "output_type": "stream",
     "text": [
      "\u001b[1m125/125\u001b[0m \u001b[32m━━━━━━━━━━━━━━━━━━━━\u001b[0m\u001b[37m\u001b[0m \u001b[1m0s\u001b[0m 2ms/step\n"
     ]
    },
    {
     "name": "stderr",
     "output_type": "stream",
     "text": [
      "C:\\Users\\moham\\AppData\\Roaming\\Python\\Python312\\site-packages\\keras\\src\\layers\\core\\dense.py:87: UserWarning: Do not pass an `input_shape`/`input_dim` argument to a layer. When using Sequential models, prefer using an `Input(shape)` object as the first layer in the model instead.\n",
      "  super().__init__(activity_regularizer=activity_regularizer, **kwargs)\n"
     ]
    },
    {
     "name": "stdout",
     "output_type": "stream",
     "text": [
      "\u001b[1m125/125\u001b[0m \u001b[32m━━━━━━━━━━━━━━━━━━━━\u001b[0m\u001b[37m\u001b[0m \u001b[1m1s\u001b[0m 3ms/step\n"
     ]
    },
    {
     "name": "stderr",
     "output_type": "stream",
     "text": [
      "C:\\Users\\moham\\AppData\\Roaming\\Python\\Python312\\site-packages\\keras\\src\\layers\\core\\dense.py:87: UserWarning: Do not pass an `input_shape`/`input_dim` argument to a layer. When using Sequential models, prefer using an `Input(shape)` object as the first layer in the model instead.\n",
      "  super().__init__(activity_regularizer=activity_regularizer, **kwargs)\n"
     ]
    },
    {
     "name": "stdout",
     "output_type": "stream",
     "text": [
      "\u001b[1m125/125\u001b[0m \u001b[32m━━━━━━━━━━━━━━━━━━━━\u001b[0m\u001b[37m\u001b[0m \u001b[1m0s\u001b[0m 2ms/step\n"
     ]
    },
    {
     "name": "stderr",
     "output_type": "stream",
     "text": [
      "C:\\Users\\moham\\AppData\\Roaming\\Python\\Python312\\site-packages\\keras\\src\\layers\\core\\dense.py:87: UserWarning: Do not pass an `input_shape`/`input_dim` argument to a layer. When using Sequential models, prefer using an `Input(shape)` object as the first layer in the model instead.\n",
      "  super().__init__(activity_regularizer=activity_regularizer, **kwargs)\n"
     ]
    },
    {
     "name": "stdout",
     "output_type": "stream",
     "text": [
      "\u001b[1m125/125\u001b[0m \u001b[32m━━━━━━━━━━━━━━━━━━━━\u001b[0m\u001b[37m\u001b[0m \u001b[1m1s\u001b[0m 3ms/step\n"
     ]
    },
    {
     "name": "stderr",
     "output_type": "stream",
     "text": [
      "C:\\Users\\moham\\AppData\\Roaming\\Python\\Python312\\site-packages\\keras\\src\\layers\\core\\dense.py:87: UserWarning: Do not pass an `input_shape`/`input_dim` argument to a layer. When using Sequential models, prefer using an `Input(shape)` object as the first layer in the model instead.\n",
      "  super().__init__(activity_regularizer=activity_regularizer, **kwargs)\n"
     ]
    },
    {
     "name": "stdout",
     "output_type": "stream",
     "text": [
      "\u001b[1m125/125\u001b[0m \u001b[32m━━━━━━━━━━━━━━━━━━━━\u001b[0m\u001b[37m\u001b[0m \u001b[1m0s\u001b[0m 3ms/step\n"
     ]
    },
    {
     "name": "stderr",
     "output_type": "stream",
     "text": [
      "C:\\Users\\moham\\AppData\\Roaming\\Python\\Python312\\site-packages\\keras\\src\\layers\\core\\dense.py:87: UserWarning: Do not pass an `input_shape`/`input_dim` argument to a layer. When using Sequential models, prefer using an `Input(shape)` object as the first layer in the model instead.\n",
      "  super().__init__(activity_regularizer=activity_regularizer, **kwargs)\n"
     ]
    },
    {
     "name": "stdout",
     "output_type": "stream",
     "text": [
      "\u001b[1m125/125\u001b[0m \u001b[32m━━━━━━━━━━━━━━━━━━━━\u001b[0m\u001b[37m\u001b[0m \u001b[1m1s\u001b[0m 3ms/step\n"
     ]
    },
    {
     "name": "stderr",
     "output_type": "stream",
     "text": [
      "C:\\Users\\moham\\AppData\\Roaming\\Python\\Python312\\site-packages\\keras\\src\\layers\\core\\dense.py:87: UserWarning: Do not pass an `input_shape`/`input_dim` argument to a layer. When using Sequential models, prefer using an `Input(shape)` object as the first layer in the model instead.\n",
      "  super().__init__(activity_regularizer=activity_regularizer, **kwargs)\n"
     ]
    },
    {
     "name": "stdout",
     "output_type": "stream",
     "text": [
      "\u001b[1m125/125\u001b[0m \u001b[32m━━━━━━━━━━━━━━━━━━━━\u001b[0m\u001b[37m\u001b[0m \u001b[1m1s\u001b[0m 2ms/step\n"
     ]
    },
    {
     "name": "stderr",
     "output_type": "stream",
     "text": [
      "C:\\Users\\moham\\AppData\\Roaming\\Python\\Python312\\site-packages\\keras\\src\\layers\\core\\dense.py:87: UserWarning: Do not pass an `input_shape`/`input_dim` argument to a layer. When using Sequential models, prefer using an `Input(shape)` object as the first layer in the model instead.\n",
      "  super().__init__(activity_regularizer=activity_regularizer, **kwargs)\n"
     ]
    },
    {
     "name": "stdout",
     "output_type": "stream",
     "text": [
      "\u001b[1m125/125\u001b[0m \u001b[32m━━━━━━━━━━━━━━━━━━━━\u001b[0m\u001b[37m\u001b[0m \u001b[1m1s\u001b[0m 6ms/step\n"
     ]
    },
    {
     "name": "stderr",
     "output_type": "stream",
     "text": [
      "C:\\Users\\moham\\AppData\\Roaming\\Python\\Python312\\site-packages\\keras\\src\\layers\\core\\dense.py:87: UserWarning: Do not pass an `input_shape`/`input_dim` argument to a layer. When using Sequential models, prefer using an `Input(shape)` object as the first layer in the model instead.\n",
      "  super().__init__(activity_regularizer=activity_regularizer, **kwargs)\n"
     ]
    },
    {
     "name": "stdout",
     "output_type": "stream",
     "text": [
      "\u001b[1m125/125\u001b[0m \u001b[32m━━━━━━━━━━━━━━━━━━━━\u001b[0m\u001b[37m\u001b[0m \u001b[1m0s\u001b[0m 2ms/step\n"
     ]
    },
    {
     "name": "stderr",
     "output_type": "stream",
     "text": [
      "C:\\Users\\moham\\AppData\\Roaming\\Python\\Python312\\site-packages\\keras\\src\\layers\\core\\dense.py:87: UserWarning: Do not pass an `input_shape`/`input_dim` argument to a layer. When using Sequential models, prefer using an `Input(shape)` object as the first layer in the model instead.\n",
      "  super().__init__(activity_regularizer=activity_regularizer, **kwargs)\n"
     ]
    },
    {
     "name": "stdout",
     "output_type": "stream",
     "text": [
      "\u001b[1m125/125\u001b[0m \u001b[32m━━━━━━━━━━━━━━━━━━━━\u001b[0m\u001b[37m\u001b[0m \u001b[1m1s\u001b[0m 3ms/step\n"
     ]
    },
    {
     "name": "stderr",
     "output_type": "stream",
     "text": [
      "C:\\Users\\moham\\AppData\\Roaming\\Python\\Python312\\site-packages\\keras\\src\\layers\\core\\dense.py:87: UserWarning: Do not pass an `input_shape`/`input_dim` argument to a layer. When using Sequential models, prefer using an `Input(shape)` object as the first layer in the model instead.\n",
      "  super().__init__(activity_regularizer=activity_regularizer, **kwargs)\n"
     ]
    },
    {
     "name": "stdout",
     "output_type": "stream",
     "text": [
      "\u001b[1m125/125\u001b[0m \u001b[32m━━━━━━━━━━━━━━━━━━━━\u001b[0m\u001b[37m\u001b[0m \u001b[1m1s\u001b[0m 5ms/step\n"
     ]
    },
    {
     "name": "stderr",
     "output_type": "stream",
     "text": [
      "C:\\Users\\moham\\AppData\\Roaming\\Python\\Python312\\site-packages\\keras\\src\\layers\\core\\dense.py:87: UserWarning: Do not pass an `input_shape`/`input_dim` argument to a layer. When using Sequential models, prefer using an `Input(shape)` object as the first layer in the model instead.\n",
      "  super().__init__(activity_regularizer=activity_regularizer, **kwargs)\n"
     ]
    },
    {
     "name": "stdout",
     "output_type": "stream",
     "text": [
      "\u001b[1m125/125\u001b[0m \u001b[32m━━━━━━━━━━━━━━━━━━━━\u001b[0m\u001b[37m\u001b[0m \u001b[1m1s\u001b[0m 2ms/step\n"
     ]
    },
    {
     "name": "stderr",
     "output_type": "stream",
     "text": [
      "C:\\Users\\moham\\AppData\\Roaming\\Python\\Python312\\site-packages\\keras\\src\\layers\\core\\dense.py:87: UserWarning: Do not pass an `input_shape`/`input_dim` argument to a layer. When using Sequential models, prefer using an `Input(shape)` object as the first layer in the model instead.\n",
      "  super().__init__(activity_regularizer=activity_regularizer, **kwargs)\n"
     ]
    },
    {
     "name": "stdout",
     "output_type": "stream",
     "text": [
      "\u001b[1m125/125\u001b[0m \u001b[32m━━━━━━━━━━━━━━━━━━━━\u001b[0m\u001b[37m\u001b[0m \u001b[1m1s\u001b[0m 4ms/step\n"
     ]
    },
    {
     "name": "stderr",
     "output_type": "stream",
     "text": [
      "C:\\Users\\moham\\AppData\\Roaming\\Python\\Python312\\site-packages\\keras\\src\\layers\\core\\dense.py:87: UserWarning: Do not pass an `input_shape`/`input_dim` argument to a layer. When using Sequential models, prefer using an `Input(shape)` object as the first layer in the model instead.\n",
      "  super().__init__(activity_regularizer=activity_regularizer, **kwargs)\n"
     ]
    },
    {
     "name": "stdout",
     "output_type": "stream",
     "text": [
      "\u001b[1m125/125\u001b[0m \u001b[32m━━━━━━━━━━━━━━━━━━━━\u001b[0m\u001b[37m\u001b[0m \u001b[1m0s\u001b[0m 2ms/step\n"
     ]
    },
    {
     "name": "stderr",
     "output_type": "stream",
     "text": [
      "C:\\Users\\moham\\AppData\\Roaming\\Python\\Python312\\site-packages\\keras\\src\\layers\\core\\dense.py:87: UserWarning: Do not pass an `input_shape`/`input_dim` argument to a layer. When using Sequential models, prefer using an `Input(shape)` object as the first layer in the model instead.\n",
      "  super().__init__(activity_regularizer=activity_regularizer, **kwargs)\n"
     ]
    },
    {
     "name": "stdout",
     "output_type": "stream",
     "text": [
      "\u001b[1m125/125\u001b[0m \u001b[32m━━━━━━━━━━━━━━━━━━━━\u001b[0m\u001b[37m\u001b[0m \u001b[1m0s\u001b[0m 3ms/step\n"
     ]
    },
    {
     "name": "stderr",
     "output_type": "stream",
     "text": [
      "C:\\Users\\moham\\AppData\\Roaming\\Python\\Python312\\site-packages\\keras\\src\\layers\\core\\dense.py:87: UserWarning: Do not pass an `input_shape`/`input_dim` argument to a layer. When using Sequential models, prefer using an `Input(shape)` object as the first layer in the model instead.\n",
      "  super().__init__(activity_regularizer=activity_regularizer, **kwargs)\n"
     ]
    },
    {
     "name": "stdout",
     "output_type": "stream",
     "text": [
      "\u001b[1m125/125\u001b[0m \u001b[32m━━━━━━━━━━━━━━━━━━━━\u001b[0m\u001b[37m\u001b[0m \u001b[1m0s\u001b[0m 3ms/step\n"
     ]
    },
    {
     "name": "stderr",
     "output_type": "stream",
     "text": [
      "C:\\Users\\moham\\AppData\\Roaming\\Python\\Python312\\site-packages\\keras\\src\\layers\\core\\dense.py:87: UserWarning: Do not pass an `input_shape`/`input_dim` argument to a layer. When using Sequential models, prefer using an `Input(shape)` object as the first layer in the model instead.\n",
      "  super().__init__(activity_regularizer=activity_regularizer, **kwargs)\n"
     ]
    },
    {
     "name": "stdout",
     "output_type": "stream",
     "text": [
      "\u001b[1m125/125\u001b[0m \u001b[32m━━━━━━━━━━━━━━━━━━━━\u001b[0m\u001b[37m\u001b[0m \u001b[1m1s\u001b[0m 3ms/step\n"
     ]
    },
    {
     "name": "stderr",
     "output_type": "stream",
     "text": [
      "C:\\Users\\moham\\AppData\\Roaming\\Python\\Python312\\site-packages\\keras\\src\\layers\\core\\dense.py:87: UserWarning: Do not pass an `input_shape`/`input_dim` argument to a layer. When using Sequential models, prefer using an `Input(shape)` object as the first layer in the model instead.\n",
      "  super().__init__(activity_regularizer=activity_regularizer, **kwargs)\n"
     ]
    },
    {
     "name": "stdout",
     "output_type": "stream",
     "text": [
      "\u001b[1m125/125\u001b[0m \u001b[32m━━━━━━━━━━━━━━━━━━━━\u001b[0m\u001b[37m\u001b[0m \u001b[1m0s\u001b[0m 3ms/step\n",
      "Best Accuracy: 0.938\n",
      "Best Hyperparameters: {'num_hidden_layers': 3, 'neurons_per_layer': 128, 'activation': 'tanh', 'learning_rate': 0.001}\n"
     ]
    }
   ],
   "source": [
    "#  Hyperparameter Tuning\n",
    "# ●\tModify various hyperparameters, such as the number of hidden layers, neurons per hidden layer, activation functions, and learning rate, to observe their impact on model performance.\n",
    "\n",
    "import pandas as pd\n",
    "from sklearn.preprocessing import LabelEncoder\n",
    "from sklearn.preprocessing import MinMaxScaler\n",
    "from sklearn.impute import SimpleImputer\n",
    "from sklearn.model_selection import train_test_split\n",
    "from sklearn.metrics import accuracy_score\n",
    "from tensorflow import keras\n",
    "from tensorflow.keras import layers\n",
    "from tensorflow.keras.optimizers import Adam\n",
    "\n",
    "# ... (Previous code for data loading, preprocessing, and splitting) ...\n",
    "\n",
    "def build_and_train_model(num_hidden_layers, neurons_per_layer, activation, learning_rate):\n",
    "  model = keras.Sequential()\n",
    "  model.add(layers.Dense(neurons_per_layer, activation=activation, input_shape=(X_train.shape[1],)))\n",
    "  for _ in range(num_hidden_layers - 1):\n",
    "    model.add(layers.Dense(neurons_per_layer, activation=activation))\n",
    "  model.add(layers.Dense(26, activation='softmax'))\n",
    "\n",
    "  optimizer = Adam(learning_rate=learning_rate)\n",
    "  model.compile(optimizer=optimizer,\n",
    "                loss='sparse_categorical_crossentropy',\n",
    "                metrics=['accuracy'])\n",
    "\n",
    "  model.fit(X_train, y_train, epochs=10, batch_size=32, validation_split=0.2, verbose=0)\n",
    "  return model\n",
    "\n",
    "\n",
    "# Hyperparameter tuning loop\n",
    "num_hidden_layers_options = [2, 3, 4]\n",
    "neurons_per_layer_options = [32, 64, 128]\n",
    "activation_options = ['relu', 'tanh']\n",
    "learning_rate_options = [0.001, 0.01]\n",
    "\n",
    "best_accuracy = 0\n",
    "best_hyperparameters = {}\n",
    "\n",
    "for num_hidden_layers in num_hidden_layers_options:\n",
    "  for neurons_per_layer in neurons_per_layer_options:\n",
    "    for activation in activation_options:\n",
    "      for learning_rate in learning_rate_options:\n",
    "        model = build_and_train_model(num_hidden_layers, neurons_per_layer, activation, learning_rate)\n",
    "        y_pred = model.predict(X_test)\n",
    "        y_pred_classes = [i.argmax() for i in y_pred]\n",
    "        accuracy = accuracy_score(y_test, y_pred_classes)\n",
    "\n",
    "        if accuracy > best_accuracy:\n",
    "          best_accuracy = accuracy\n",
    "          best_hyperparameters = {\n",
    "              'num_hidden_layers': num_hidden_layers,\n",
    "              'neurons_per_layer': neurons_per_layer,\n",
    "              'activation': activation,\n",
    "              'learning_rate': learning_rate\n",
    "          }\n",
    "\n",
    "print(f\"Best Accuracy: {best_accuracy}\")\n",
    "print(f\"Best Hyperparameters: {best_hyperparameters}\")\n"
   ]
  },
  {
   "cell_type": "code",
   "execution_count": 6,
   "id": "ea52dea4-b0ea-4d49-9e13-b3d006c078e1",
   "metadata": {},
   "outputs": [
    {
     "name": "stderr",
     "output_type": "stream",
     "text": [
      "C:\\Users\\moham\\AppData\\Roaming\\Python\\Python312\\site-packages\\scikeras\\wrappers.py:925: UserWarning: ``build_fn`` will be renamed to ``model`` in a future release, at which point use of ``build_fn`` will raise an Error instead.\n",
      "  X, y = self._initialize(X, y)\n",
      "C:\\Users\\moham\\AppData\\Roaming\\Python\\Python312\\site-packages\\keras\\src\\layers\\core\\dense.py:87: UserWarning: Do not pass an `input_shape`/`input_dim` argument to a layer. When using Sequential models, prefer using an `Input(shape)` object as the first layer in the model instead.\n",
      "  super().__init__(activity_regularizer=activity_regularizer, **kwargs)\n"
     ]
    },
    {
     "name": "stdout",
     "output_type": "stream",
     "text": [
      "Best: 0.884250 using {'activation': 'tanh', 'batch_size': 32, 'epochs': 10, 'learning_rate': 0.001, 'neurons_per_layer': 64, 'num_hidden_layers': 3}\n",
      "Accuracy on Test Set: 0.9145\n"
     ]
    }
   ],
   "source": [
    "#\tAdopt a structured approach like grid search or random search for hyperparameter tuning, documenting your methodology thoroughly\n",
    "#i am using GridSearchCV.\n",
    "from sklearn.preprocessing import LabelEncoder, MinMaxScaler\n",
    "from sklearn.impute import SimpleImputer\n",
    "from sklearn.model_selection import train_test_split, GridSearchCV\n",
    "from sklearn.metrics import accuracy_score\n",
    "from tensorflow import keras\n",
    "from tensorflow.keras import layers\n",
    "from scikeras.wrappers import KerasClassifier\n",
    "from tensorflow.keras.optimizers import Adam\n",
    "\n",
    "# Define the model creation function\n",
    "def create_model(num_hidden_layers=2, neurons_per_layer=32, activation='relu', learning_rate=0.001):\n",
    "    model = keras.Sequential()\n",
    "    model.add(layers.Dense(neurons_per_layer, activation=activation, input_shape=(X_train.shape[1],))) # Input layer\n",
    "    for _ in range(num_hidden_layers - 1):  # Hidden layers\n",
    "        model.add(layers.Dense(neurons_per_layer, activation=activation))\n",
    "    model.add(layers.Dense(26, activation='softmax'))  # Output layer (assuming 26 classes for classification)\n",
    "\n",
    "    # Compile the model\n",
    "    optimizer = Adam(learning_rate=learning_rate)\n",
    "    model.compile(optimizer=optimizer,\n",
    "                  loss='sparse_categorical_crossentropy',  # Use 'categorical_crossentropy' for one-hot encoded labels\n",
    "                  metrics=['accuracy'])\n",
    "    return model\n",
    "\n",
    "# Wrap the Keras model for use with scikit-learn\n",
    "model = KerasClassifier(\n",
    "    build_fn=create_model, \n",
    "    verbose=0,\n",
    "    num_hidden_layers=2,   # Default value\n",
    "    neurons_per_layer=32,  # Default value\n",
    "    activation='relu',     # Default value\n",
    "    learning_rate=0.001,   # Default value\n",
    "    epochs=10,             # Default value\n",
    "    batch_size=32          # Default value\n",
    ")\n",
    "\n",
    "# Define the hyperparameter grid for grid search\n",
    "param_grid = {\n",
    "    'num_hidden_layers': [2, 3],\n",
    "    'neurons_per_layer': [32, 64],\n",
    "    'activation': ['relu', 'tanh'],\n",
    "    'learning_rate': [0.001, 0.01],\n",
    "    'epochs': [10],\n",
    "    'batch_size': [32]\n",
    "}\n",
    "\n",
    "\n",
    "# Create a GridSearchCV object\n",
    "grid = GridSearchCV(estimator=model, param_grid=param_grid, n_jobs=-1, cv=3)\n",
    "\n",
    "# Perform the grid search\n",
    "grid_result = grid.fit(X_train, y_train)\n",
    "\n",
    "# Print the best score and hyperparameters\n",
    "print(\"Best: %f using %s\" % (grid_result.best_score_, grid_result.best_params_))\n",
    "\n",
    "# Evaluate the best model on the test set\n",
    "y_pred = grid_result.best_estimator_.predict(X_test)\n",
    "accuracy = accuracy_score(y_test, y_pred)\n",
    "print(f\"Accuracy on Test Set: {accuracy}\")\n"
   ]
  },
  {
   "cell_type": "code",
   "execution_count": 14,
   "id": "7f80183c-8a2f-4b72-b425-d7a5f7cc6e28",
   "metadata": {},
   "outputs": [
    {
     "name": "stdout",
     "output_type": "stream",
     "text": [
      "Accuracy: 0.9145\n",
      "Precision: 0.9173217871800187\n",
      "Recall: 0.9145\n",
      "F1-score: 0.9143030522829053\n",
      "Classification Report:\n",
      "               precision    recall  f1-score   support\n",
      "\n",
      "           0       0.90      0.97      0.94       149\n",
      "           1       0.83      0.93      0.88       153\n",
      "           2       0.96      0.91      0.93       137\n",
      "           3       0.86      0.92      0.89       156\n",
      "           4       0.90      0.85      0.88       141\n",
      "           5       0.89      0.89      0.89       140\n",
      "           6       0.90      0.91      0.90       160\n",
      "           7       0.93      0.74      0.83       144\n",
      "           8       0.98      0.90      0.94       146\n",
      "           9       0.95      0.91      0.93       149\n",
      "          10       0.90      0.79      0.84       130\n",
      "          11       0.96      0.96      0.96       155\n",
      "          12       0.98      0.94      0.96       168\n",
      "          13       0.95      0.93      0.94       151\n",
      "          14       0.89      0.92      0.91       145\n",
      "          15       0.96      0.94      0.95       173\n",
      "          16       0.93      0.89      0.91       166\n",
      "          17       0.82      0.91      0.86       160\n",
      "          18       0.89      0.93      0.91       171\n",
      "          19       0.95      0.93      0.94       163\n",
      "          20       0.96      0.95      0.95       183\n",
      "          21       0.97      0.82      0.89       158\n",
      "          22       0.97      0.97      0.97       148\n",
      "          23       0.87      0.97      0.92       154\n",
      "          24       0.84      0.97      0.90       168\n",
      "          25       0.89      0.97      0.93       132\n",
      "\n",
      "    accuracy                           0.91      4000\n",
      "   macro avg       0.92      0.91      0.91      4000\n",
      "weighted avg       0.92      0.91      0.91      4000\n",
      "\n",
      "Confusion Matrix:\n",
      " [[145   0   0   0   0   0   0   1   0   0   0   0   0   0   0   0   0   1\n",
      "    1   0   0   0   0   1   0   0]\n",
      " [  1 143   0   2   0   1   0   0   0   0   0   0   0   0   0   0   0   2\n",
      "    1   0   0   1   0   0   2   0]\n",
      " [  0   0 124   0   3   0   2   0   0   0   0   1   0   0   4   0   1   0\n",
      "    1   0   1   0   0   0   0   0]\n",
      " [  1   2   0 144   0   2   0   3   0   0   2   0   0   0   1   0   0   0\n",
      "    1   0   0   0   0   0   0   0]\n",
      " [  0   1   1   0 120   0   3   0   1   0   0   1   0   0   0   0   1   1\n",
      "    4   0   0   0   0   3   0   5]\n",
      " [  1   0   0   1   1 124   1   0   0   0   0   0   0   0   0   4   0   0\n",
      "    2   4   0   0   0   1   1   0]\n",
      " [  1   0   2   1   1   1 145   1   0   0   2   1   0   0   0   0   2   1\n",
      "    0   0   0   2   0   0   0   0]\n",
      " [  2   3   0   6   1   0   2 107   0   0   3   0   0   3   3   0   0  12\n",
      "    0   0   1   0   0   1   0   0]\n",
      " [  0   0   0   0   0   2   0   0 132   7   0   1   0   0   0   0   0   0\n",
      "    2   0   0   0   0   2   0   0]\n",
      " [  0   0   0   0   0   2   0   1   2 135   0   0   0   0   0   0   1   0\n",
      "    0   0   0   0   0   4   0   4]\n",
      " [  0   1   1   0   2   2   0   1   0   0 103   0   0   0   0   0   0  11\n",
      "    3   0   0   0   0   6   0   0]\n",
      " [  0   1   0   0   2   0   2   0   0   0   0 149   0   0   0   0   0   0\n",
      "    0   1   0   0   0   0   0   0]\n",
      " [  3   1   0   0   0   0   0   0   0   0   0   0 158   4   0   0   0   0\n",
      "    0   0   2   0   0   0   0   0]\n",
      " [  1   2   0   3   0   0   0   1   0   0   0   0   0 140   3   0   0   1\n",
      "    0   0   0   0   0   0   0   0]\n",
      " [  0   0   0   5   0   0   0   0   0   0   0   0   0   0 134   0   3   0\n",
      "    1   0   1   0   1   0   0   0]\n",
      " [  0   1   0   0   1   4   1   0   0   0   0   0   0   0   0 163   0   0\n",
      "    0   0   0   0   0   0   3   0]\n",
      " [  0   1   0   1   0   0   2   0   0   0   0   0   1   0   4   1 148   0\n",
      "    1   0   0   0   1   1   3   2]\n",
      " [  1   8   0   2   1   0   0   0   0   0   0   0   0   1   0   0   0 146\n",
      "    0   0   0   0   0   1   0   0]\n",
      " [  2   1   0   0   1   1   0   0   0   0   0   1   0   0   0   0   0   0\n",
      "  159   1   0   0   0   0   2   3]\n",
      " [  0   0   0   1   0   0   1   0   0   0   1   0   0   0   0   0   0   1\n",
      "    0 152   1   0   0   1   3   2]\n",
      " [  2   1   1   0   0   0   1   0   0   0   2   0   2   0   0   0   0   0\n",
      "    0   0 173   0   1   0   0   0]\n",
      " [  1   6   0   0   0   0   1   0   0   0   0   0   0   0   1   1   1   1\n",
      "    0   0   1 130   1   0  14   0]\n",
      " [  0   0   0   0   0   0   0   0   0   0   0   0   0   0   0   0   0   0\n",
      "    0   0   1   1 144   0   2   0]\n",
      " [  0   0   0   0   0   0   0   0   0   0   1   1   0   0   0   0   2   0\n",
      "    0   0   0   0   0 149   1   0]\n",
      " [  0   1   0   1   0   0   0   0   0   0   0   0   0   0   0   0   0   0\n",
      "    0   2   0   0   0   1 163   0]\n",
      " [  0   0   0   0   0   0   0   0   0   0   0   1   0   0   0   0   0   1\n",
      "    2   0   0   0   0   0   0 128]]\n"
     ]
    }
   ],
   "source": [
    "# Evaluation\n",
    "# ●\tEmploy suitable metrics such as accuracy, precision, recall, and F1-score to evaluate your model's performance.\n",
    "\n",
    "from sklearn.metrics import accuracy_score, precision_score, recall_score, f1_score, classification_report, confusion_matrix\n",
    "\n",
    "# ... (Previous code for data loading, preprocessing, model training, and hyperparameter tuning) ...\n",
    "\n",
    "# Evaluate the best model on the test set\n",
    "y_pred = grid_result.best_estimator_.predict(X_test)\n",
    "\n",
    "# Calculate accuracy\n",
    "accuracy = accuracy_score(y_test, y_pred)\n",
    "print(f\"Accuracy: {accuracy}\")\n",
    "\n",
    "# Calculate precision\n",
    "precision = precision_score(y_test, y_pred, average='weighted')\n",
    "print(f\"Precision: {precision}\")\n",
    "\n",
    "# Calculate recall\n",
    "recall = recall_score(y_test, y_pred, average='weighted')\n",
    "print(f\"Recall: {recall}\")\n",
    "\n",
    "# Calculate F1-score\n",
    "f1 = f1_score(y_test, y_pred, average='weighted')\n",
    "print(f\"F1-score: {f1}\")\n",
    "\n",
    "# Generate a classification report\n",
    "print(\"Classification Report:\\n\", classification_report(y_test, y_pred))\n",
    "\n",
    "# Generate a confusion matrix\n",
    "print(\"Confusion Matrix:\\n\", confusion_matrix(y_test, y_pred))\n"
   ]
  },
  {
   "cell_type": "code",
   "execution_count": 16,
   "id": "f681aaa0-b0ec-4f72-b55e-97b002838beb",
   "metadata": {},
   "outputs": [
    {
     "name": "stdout",
     "output_type": "stream",
     "text": [
      "Model with Default Hyperparameters:\n"
     ]
    },
    {
     "name": "stderr",
     "output_type": "stream",
     "text": [
      "C:\\Users\\moham\\AppData\\Roaming\\Python\\Python312\\site-packages\\keras\\src\\layers\\core\\dense.py:87: UserWarning: Do not pass an `input_shape`/`input_dim` argument to a layer. When using Sequential models, prefer using an `Input(shape)` object as the first layer in the model instead.\n",
      "  super().__init__(activity_regularizer=activity_regularizer, **kwargs)\n"
     ]
    },
    {
     "name": "stdout",
     "output_type": "stream",
     "text": [
      "\u001b[1m125/125\u001b[0m \u001b[32m━━━━━━━━━━━━━━━━━━━━\u001b[0m\u001b[37m\u001b[0m \u001b[1m1s\u001b[0m 4ms/step\n",
      "Accuracy: 0.8255\n",
      "\n",
      "Model with Tuned Hyperparameters (Grid Search):\n",
      "Accuracy: 0.9145\n",
      "\n",
      "Comparison:\n",
      "Accuracy improvement with hyperparameter tuning (Grid Search): 0.08899999999999997\n"
     ]
    }
   ],
   "source": [
    "#  ●\tDiscuss the performance differences between the model with default hyperparameters and the tuned model, emphasizing the effects of hyperparameter tuning.\n",
    "\n",
    "\n",
    "\n",
    "\n",
    "print(\"Model with Default Hyperparameters:\")\n",
    "# Build the ANN model with default hyperparameters\n",
    "model_default = keras.Sequential([\n",
    "    layers.Dense(64, activation='relu', input_shape=(X_train.shape[1],)),\n",
    "    layers.Dense(32, activation='relu'),\n",
    "    layers.Dense(26, activation='softmax')\n",
    "])\n",
    "\n",
    "# Compile the model\n",
    "model_default.compile(optimizer='adam',\n",
    "                     loss='sparse_categorical_crossentropy',\n",
    "                     metrics=['accuracy'])\n",
    "\n",
    "# Train the model\n",
    "model_default.fit(X_train, y_train, epochs=10, batch_size=32, validation_split=0.2, verbose=0)\n",
    "\n",
    "# Make predictions on the test set\n",
    "y_pred_default = model_default.predict(X_test)\n",
    "y_pred_classes_default = [i.argmax() for i in y_pred_default]\n",
    "\n",
    "# Evaluate the model\n",
    "accuracy_default = accuracy_score(y_test, y_pred_classes_default)\n",
    "print(f\"Accuracy: {accuracy_default}\")\n",
    "\n",
    "\n",
    "print(\"\\nModel with Tuned Hyperparameters (Grid Search):\")\n",
    "# Evaluate the best model from grid search on the test set\n",
    "y_pred_grid = grid_result.best_estimator_.predict(X_test)\n",
    "\n",
    "# Calculate accuracy\n",
    "accuracy_grid = accuracy_score(y_test, y_pred_grid)\n",
    "print(f\"Accuracy: {accuracy_grid}\")\n",
    "\n",
    "\n",
    "print(\"\\nComparison:\")\n",
    "print(f\"Accuracy improvement with hyperparameter tuning (Grid Search): {accuracy_grid - accuracy_default}\")\n",
    "\n",
    "# You can also compare precision, recall, F1-score, and confusion matrix for both models if needed.\n",
    "\n"
   ]
  },
  {
   "cell_type": "code",
   "execution_count": 18,
   "id": "d7e7681b-d6b1-4a25-8cf2-1d1d840036b3",
   "metadata": {},
   "outputs": [
    {
     "name": "stdout",
     "output_type": "stream",
     "text": [
      "Accuracy: 0.9145\n",
      "Precision: 0.9173217871800187\n",
      "Recall: 0.9145\n",
      "F1-score: 0.9143030522829053\n",
      "Classification Report:\n",
      "               precision    recall  f1-score   support\n",
      "\n",
      "           0       0.90      0.97      0.94       149\n",
      "           1       0.83      0.93      0.88       153\n",
      "           2       0.96      0.91      0.93       137\n",
      "           3       0.86      0.92      0.89       156\n",
      "           4       0.90      0.85      0.88       141\n",
      "           5       0.89      0.89      0.89       140\n",
      "           6       0.90      0.91      0.90       160\n",
      "           7       0.93      0.74      0.83       144\n",
      "           8       0.98      0.90      0.94       146\n",
      "           9       0.95      0.91      0.93       149\n",
      "          10       0.90      0.79      0.84       130\n",
      "          11       0.96      0.96      0.96       155\n",
      "          12       0.98      0.94      0.96       168\n",
      "          13       0.95      0.93      0.94       151\n",
      "          14       0.89      0.92      0.91       145\n",
      "          15       0.96      0.94      0.95       173\n",
      "          16       0.93      0.89      0.91       166\n",
      "          17       0.82      0.91      0.86       160\n",
      "          18       0.89      0.93      0.91       171\n",
      "          19       0.95      0.93      0.94       163\n",
      "          20       0.96      0.95      0.95       183\n",
      "          21       0.97      0.82      0.89       158\n",
      "          22       0.97      0.97      0.97       148\n",
      "          23       0.87      0.97      0.92       154\n",
      "          24       0.84      0.97      0.90       168\n",
      "          25       0.89      0.97      0.93       132\n",
      "\n",
      "    accuracy                           0.91      4000\n",
      "   macro avg       0.92      0.91      0.91      4000\n",
      "weighted avg       0.92      0.91      0.91      4000\n",
      "\n",
      "Confusion Matrix:\n",
      " [[145   0   0   0   0   0   0   1   0   0   0   0   0   0   0   0   0   1\n",
      "    1   0   0   0   0   1   0   0]\n",
      " [  1 143   0   2   0   1   0   0   0   0   0   0   0   0   0   0   0   2\n",
      "    1   0   0   1   0   0   2   0]\n",
      " [  0   0 124   0   3   0   2   0   0   0   0   1   0   0   4   0   1   0\n",
      "    1   0   1   0   0   0   0   0]\n",
      " [  1   2   0 144   0   2   0   3   0   0   2   0   0   0   1   0   0   0\n",
      "    1   0   0   0   0   0   0   0]\n",
      " [  0   1   1   0 120   0   3   0   1   0   0   1   0   0   0   0   1   1\n",
      "    4   0   0   0   0   3   0   5]\n",
      " [  1   0   0   1   1 124   1   0   0   0   0   0   0   0   0   4   0   0\n",
      "    2   4   0   0   0   1   1   0]\n",
      " [  1   0   2   1   1   1 145   1   0   0   2   1   0   0   0   0   2   1\n",
      "    0   0   0   2   0   0   0   0]\n",
      " [  2   3   0   6   1   0   2 107   0   0   3   0   0   3   3   0   0  12\n",
      "    0   0   1   0   0   1   0   0]\n",
      " [  0   0   0   0   0   2   0   0 132   7   0   1   0   0   0   0   0   0\n",
      "    2   0   0   0   0   2   0   0]\n",
      " [  0   0   0   0   0   2   0   1   2 135   0   0   0   0   0   0   1   0\n",
      "    0   0   0   0   0   4   0   4]\n",
      " [  0   1   1   0   2   2   0   1   0   0 103   0   0   0   0   0   0  11\n",
      "    3   0   0   0   0   6   0   0]\n",
      " [  0   1   0   0   2   0   2   0   0   0   0 149   0   0   0   0   0   0\n",
      "    0   1   0   0   0   0   0   0]\n",
      " [  3   1   0   0   0   0   0   0   0   0   0   0 158   4   0   0   0   0\n",
      "    0   0   2   0   0   0   0   0]\n",
      " [  1   2   0   3   0   0   0   1   0   0   0   0   0 140   3   0   0   1\n",
      "    0   0   0   0   0   0   0   0]\n",
      " [  0   0   0   5   0   0   0   0   0   0   0   0   0   0 134   0   3   0\n",
      "    1   0   1   0   1   0   0   0]\n",
      " [  0   1   0   0   1   4   1   0   0   0   0   0   0   0   0 163   0   0\n",
      "    0   0   0   0   0   0   3   0]\n",
      " [  0   1   0   1   0   0   2   0   0   0   0   0   1   0   4   1 148   0\n",
      "    1   0   0   0   1   1   3   2]\n",
      " [  1   8   0   2   1   0   0   0   0   0   0   0   0   1   0   0   0 146\n",
      "    0   0   0   0   0   1   0   0]\n",
      " [  2   1   0   0   1   1   0   0   0   0   0   1   0   0   0   0   0   0\n",
      "  159   1   0   0   0   0   2   3]\n",
      " [  0   0   0   1   0   0   1   0   0   0   1   0   0   0   0   0   0   1\n",
      "    0 152   1   0   0   1   3   2]\n",
      " [  2   1   1   0   0   0   1   0   0   0   2   0   2   0   0   0   0   0\n",
      "    0   0 173   0   1   0   0   0]\n",
      " [  1   6   0   0   0   0   1   0   0   0   0   0   0   0   1   1   1   1\n",
      "    0   0   1 130   1   0  14   0]\n",
      " [  0   0   0   0   0   0   0   0   0   0   0   0   0   0   0   0   0   0\n",
      "    0   0   1   1 144   0   2   0]\n",
      " [  0   0   0   0   0   0   0   0   0   0   1   1   0   0   0   0   2   0\n",
      "    0   0   0   0   0 149   1   0]\n",
      " [  0   1   0   1   0   0   0   0   0   0   0   0   0   0   0   0   0   0\n",
      "    0   2   0   0   0   1 163   0]\n",
      " [  0   0   0   0   0   0   0   0   0   0   0   1   0   0   0   0   0   1\n",
      "    2   0   0   0   0   0   0 128]]\n",
      "\n",
      "Model with Default Hyperparameters:\n"
     ]
    },
    {
     "name": "stderr",
     "output_type": "stream",
     "text": [
      "C:\\Users\\moham\\AppData\\Roaming\\Python\\Python312\\site-packages\\keras\\src\\layers\\core\\dense.py:87: UserWarning: Do not pass an `input_shape`/`input_dim` argument to a layer. When using Sequential models, prefer using an `Input(shape)` object as the first layer in the model instead.\n",
      "  super().__init__(activity_regularizer=activity_regularizer, **kwargs)\n"
     ]
    },
    {
     "name": "stdout",
     "output_type": "stream",
     "text": [
      "\u001b[1m125/125\u001b[0m \u001b[32m━━━━━━━━━━━━━━━━━━━━\u001b[0m\u001b[37m\u001b[0m \u001b[1m1s\u001b[0m 4ms/step\n",
      "Accuracy: 0.8245\n",
      "Precision: 0.8311589583601035\n",
      "Recall: 0.8245\n",
      "F1-score: 0.8224724573058778\n",
      "Classification Report:\n",
      "               precision    recall  f1-score   support\n",
      "\n",
      "           0       0.89      0.91      0.90       149\n",
      "           1       0.63      0.87      0.73       153\n",
      "           2       0.74      0.72      0.73       137\n",
      "           3       0.80      0.81      0.81       156\n",
      "           4       0.83      0.78      0.80       141\n",
      "           5       0.79      0.79      0.79       140\n",
      "           6       0.92      0.47      0.63       160\n",
      "           7       0.72      0.67      0.70       144\n",
      "           8       0.95      0.79      0.87       146\n",
      "           9       0.87      0.88      0.87       149\n",
      "          10       0.78      0.71      0.74       130\n",
      "          11       0.93      0.85      0.89       155\n",
      "          12       0.90      0.95      0.92       168\n",
      "          13       0.95      0.83      0.89       151\n",
      "          14       0.85      0.81      0.83       145\n",
      "          15       0.83      0.89      0.86       173\n",
      "          16       0.74      0.83      0.78       166\n",
      "          17       0.80      0.73      0.76       160\n",
      "          18       0.81      0.71      0.76       171\n",
      "          19       0.78      0.93      0.85       163\n",
      "          20       0.81      0.93      0.87       183\n",
      "          21       0.94      0.89      0.92       158\n",
      "          22       0.84      0.95      0.89       148\n",
      "          23       0.87      0.90      0.88       154\n",
      "          24       0.84      0.87      0.85       168\n",
      "          25       0.77      0.92      0.83       132\n",
      "\n",
      "    accuracy                           0.82      4000\n",
      "   macro avg       0.83      0.82      0.82      4000\n",
      "weighted avg       0.83      0.82      0.82      4000\n",
      "\n",
      "Confusion Matrix:\n",
      " [[136   0   0   1   0   0   0   1   0   0   1   0   1   0   0   0   2   0\n",
      "    0   0   2   0   0   0   1   4]\n",
      " [  0 133   0   3   0   2   0   1   0   0   0   0   0   0   0   1   0   3\n",
      "    1   0   0   1   0   0   8   0]\n",
      " [  0   1  98   0   4   3   1   1   0   0   5   0   0   0   4   0   2   0\n",
      "    2   1  15   0   0   0   0   0]\n",
      " [  2   4   0 127   0   1   0   2   0   3   0   0   2   2   0   7   0   0\n",
      "    0   3   1   0   0   2   0   0]\n",
      " [  0   4   2   0 110   0   3   0   0   0   2   2   0   0   0   0   1   1\n",
      "    5   7   0   0   0   1   0   3]\n",
      " [  0   6   0   4   2 111   0   1   1   1   0   0   0   0   0   8   0   0\n",
      "    2   3   0   0   0   0   0   1]\n",
      " [  1   2  30   1   0   2  76   1   0   0   4   0   0   0   1   4  24   4\n",
      "    1   0   1   3   3   1   0   1]\n",
      " [  0   5   1   6   1   0   1  97   0   0   4   0   0   3   4   1   1  10\n",
      "    0   0   3   0   1   1   5   0]\n",
      " [  0   1   0   1   0   3   0   0 116  10   0   2   0   0   0   3   1   0\n",
      "    5   0   0   0   0   2   1   1]\n",
      " [  1   0   0   1   0   3   0   0   3 131   0   0   0   0   2   0   0   0\n",
      "    1   2   0   0   0   3   0   2]\n",
      " [  0   0   1   0   3   0   0   7   0   0  92   0   1   0   0   0   0   9\n",
      "    3   4   2   0   0   6   2   0]\n",
      " [  2   2   0   0   5   0   1   1   1   0   1 131   0   0   0   1   3   0\n",
      "    0   3   0   0   0   1   1   2]\n",
      " [  2   3   0   0   0   0   0   0   0   0   0   0 159   0   0   0   0   0\n",
      "    0   0   1   0   3   0   0   0]\n",
      " [  0   3   0   1   0   0   0   2   0   0   3   0   7 125   5   0   0   0\n",
      "    0   0   2   0   3   0   0   0]\n",
      " [  0   1   0   5   0   0   0   4   0   0   0   0   1   0 118   1   6   0\n",
      "    2   0   2   0   5   0   0   0]\n",
      " [  0   4   0   0   1   9   1   1   0   0   0   0   0   0   1 154   0   0\n",
      "    0   0   0   0   0   0   2   0]\n",
      " [  1   5   0   3   0   0   0   1   0   0   0   0   0   0   1   2 137   0\n",
      "    1   0   1   1   0   1   6   6]\n",
      " [  0  21   0   2   1   0   0  10   0   0   1   0   1   1   0   0   2 117\n",
      "    0   1   0   0   2   1   0   0]\n",
      " [  4   8   0   0   5   1   0   1   1   3   0   4   0   0   0   1   3   2\n",
      "  121   4   0   0   0   0   0  13]\n",
      " [  0   1   0   0   0   2   0   1   0   1   1   0   0   0   0   0   0   0\n",
      "    0 152   1   0   0   0   1   3]\n",
      " [  0   0   0   0   0   0   0   0   0   0   0   0   2   0   3   0   0   1\n",
      "    0   0 171   0   6   0   0   0]\n",
      " [  1   5   0   0   0   0   0   0   0   0   0   0   0   0   0   2   0   0\n",
      "    0   3   3 141   3   0   0   0]\n",
      " [  0   0   0   0   0   0   0   1   0   0   0   0   3   0   0   0   0   0\n",
      "    0   0   3   1 140   0   0   0]\n",
      " [  0   0   0   2   0   0   0   1   0   0   4   1   0   0   0   0   2   0\n",
      "    1   2   1   0   0 138   1   1]\n",
      " [  2   0   0   1   0   4   0   0   0   0   0   0   0   0   0   0   0   0\n",
      "    0   9   2   3   0   1 146   0]\n",
      " [  1   1   0   0   1   0   0   0   0   2   0   1   0   0   0   0   1   0\n",
      "    4   0   0   0   0   0   0 121]]\n",
      "\n",
      "Comparison:\n",
      "Accuracy improvement with hyperparameter tuning (Grid Search): 0.08999999999999997\n",
      "Precision improvement with hyperparameter tuning (Grid Search): 0.08616282881991522\n",
      "Recall improvement with hyperparameter tuning (Grid Search): 0.08999999999999997\n",
      "F1-score improvement with hyperparameter tuning (Grid Search): 0.0918305949770275\n"
     ]
    }
   ],
   "source": [
    "# : Evaluation Criteria\n",
    "# ●\tAccuracy and completeness of the implementation.\n",
    "# ●\tProficiency in data preprocessing and model development.\n",
    "# ●\tSystematic approach and thoroughness in hyperparameter tuning.\n",
    "# ●\tDepth of evaluation and discussion.\n",
    "# ●\tOverall quality of the report.\n",
    "\n",
    "# ... (Previous code for data loading, preprocessing, model building, and hyperparameter tuning) ...\n",
    "\n",
    "\n",
    "# Evaluate the best model from grid search on the test set\n",
    "y_pred_grid = grid_result.best_estimator_.predict(X_test)\n",
    "\n",
    "# Calculate accuracy\n",
    "accuracy_grid = accuracy_score(y_test, y_pred_grid)\n",
    "print(f\"Accuracy: {accuracy_grid}\")\n",
    "\n",
    "# Calculate precision\n",
    "precision_grid = precision_score(y_test, y_pred_grid, average='weighted')\n",
    "print(f\"Precision: {precision_grid}\")\n",
    "\n",
    "# Calculate recall\n",
    "recall_grid = recall_score(y_test, y_pred_grid, average='weighted')\n",
    "print(f\"Recall: {recall_grid}\")\n",
    "\n",
    "# Calculate F1-score\n",
    "f1_grid = f1_score(y_test, y_pred_grid, average='weighted')\n",
    "print(f\"F1-score: {f1_grid}\")\n",
    "\n",
    "# Generate a classification report\n",
    "print(\"Classification Report:\\n\", classification_report(y_test, y_pred_grid))\n",
    "\n",
    "# Generate a confusion matrix\n",
    "print(\"Confusion Matrix:\\n\", confusion_matrix(y_test, y_pred_grid))\n",
    "\n",
    "\n",
    "\n",
    "print(\"\\nModel with Default Hyperparameters:\")\n",
    "# Build the ANN model with default hyperparameters\n",
    "model_default = keras.Sequential([\n",
    "    layers.Dense(64, activation='relu', input_shape=(X_train.shape[1],)),\n",
    "    layers.Dense(32, activation='relu'),\n",
    "    layers.Dense(26, activation='softmax')\n",
    "])\n",
    "\n",
    "# Compile the model\n",
    "model_default.compile(optimizer='adam',\n",
    "                     loss='sparse_categorical_crossentropy',\n",
    "                     metrics=['accuracy'])\n",
    "\n",
    "# Train the model\n",
    "model_default.fit(X_train, y_train, epochs=10, batch_size=32, validation_split=0.2, verbose=0)\n",
    "\n",
    "# Make predictions on the test set\n",
    "y_pred_default = model_default.predict(X_test)\n",
    "y_pred_classes_default = [i.argmax() for i in y_pred_default]\n",
    "\n",
    "# Evaluate the model\n",
    "accuracy_default = accuracy_score(y_test, y_pred_classes_default)\n",
    "print(f\"Accuracy: {accuracy_default}\")\n",
    "precision_default = precision_score(y_test, y_pred_classes_default, average='weighted')\n",
    "print(f\"Precision: {precision_default}\")\n",
    "\n",
    "recall_default = recall_score(y_test, y_pred_classes_default, average='weighted')\n",
    "print(f\"Recall: {recall_default}\")\n",
    "\n",
    "f1_default = f1_score(y_test, y_pred_classes_default, average='weighted')\n",
    "print(f\"F1-score: {f1_default}\")\n",
    "\n",
    "print(\"Classification Report:\\n\", classification_report(y_test, y_pred_classes_default))\n",
    "print(\"Confusion Matrix:\\n\", confusion_matrix(y_test, y_pred_classes_default))\n",
    "\n",
    "\n",
    "print(\"\\nComparison:\")\n",
    "print(f\"Accuracy improvement with hyperparameter tuning (Grid Search): {accuracy_grid - accuracy_default}\")\n",
    "print(f\"Precision improvement with hyperparameter tuning (Grid Search): {precision_grid - precision_default}\")\n",
    "print(f\"Recall improvement with hyperparameter tuning (Grid Search): {recall_grid - recall_default}\")\n",
    "print(f\"F1-score improvement with hyperparameter tuning (Grid Search): {f1_grid - f1_default}\")\n"
   ]
  },
  {
   "cell_type": "code",
   "execution_count": 20,
   "id": "80da8ada-8ac6-4496-9e88-6913abdc6074",
   "metadata": {},
   "outputs": [
    {
     "name": "stdout",
     "output_type": "stream",
     "text": [
      "\n",
      "Additional Resources:\n",
      "● TensorFlow Documentation: https://www.tensorflow.org/api_docs\n",
      "● Keras Documentation: https://keras.io/\n"
     ]
    }
   ],
   "source": [
    "# Additional Resources\n",
    "# ●\tTensorFlow Documentation\n",
    "# ●\tKeras Documentation\n",
    "\n",
    "print(\"\\nAdditional Resources:\")\n",
    "print(\"● TensorFlow Documentation: https://www.tensorflow.org/api_docs\")\n",
    "print(\"● Keras Documentation: https://keras.io/\")\n"
   ]
  },
  {
   "cell_type": "code",
   "execution_count": null,
   "id": "4ed6c578-1e30-425d-9777-707f7f2f7568",
   "metadata": {},
   "outputs": [],
   "source": []
  }
 ],
 "metadata": {
  "kernelspec": {
   "display_name": "Python 3 (ipykernel)",
   "language": "python",
   "name": "python3"
  },
  "language_info": {
   "codemirror_mode": {
    "name": "ipython",
    "version": 3
   },
   "file_extension": ".py",
   "mimetype": "text/x-python",
   "name": "python",
   "nbconvert_exporter": "python",
   "pygments_lexer": "ipython3",
   "version": "3.12.4"
  }
 },
 "nbformat": 4,
 "nbformat_minor": 5
}
