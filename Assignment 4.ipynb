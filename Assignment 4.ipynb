{
 "cells": [
  {
   "cell_type": "code",
   "execution_count": 3,
   "id": "41b94f18-23aa-46dc-b7ff-fb271c9a1f90",
   "metadata": {},
   "outputs": [
    {
     "name": "stdout",
     "output_type": "stream",
     "text": [
      "       Satisfaction  Smart Thermostat  Smart Light  Total\n",
      "0    Very Satisfied                50           70    120\n",
      "1         Satisfied                80          100    180\n",
      "2           Neutral                60           90    150\n",
      "3       Unsatisfied                30           50     80\n",
      "4  Very Unsatisfied                20           50     70\n"
     ]
    }
   ],
   "source": [
    "#CHI-SQUARE TEST\n",
    "# The data is summarized in a contingency table showing the counts of customers in each satisfaction level for both types of devices such as \n",
    "#Smart Thermostat,Smart Light \n",
    "import pandas as pd\n",
    "\n",
    "data = {'Satisfaction': ['Very Satisfied', 'Satisfied', 'Neutral', 'Unsatisfied', 'Very Unsatisfied'],\n",
    "        'Smart Thermostat': [50, 80, 60, 30, 20],\n",
    "        'Smart Light': [70, 100, 90, 50, 50],\n",
    "        'Total': [120, 180, 150, 80, 70]}\n",
    "\n",
    "df = pd.DataFrame(data)\n",
    "print(df)"
   ]
  },
  {
   "cell_type": "code",
   "execution_count": 9,
   "id": "87692bb5-be10-4c04-92e6-9888bcbfc91b",
   "metadata": {},
   "outputs": [
    {
     "name": "stdout",
     "output_type": "stream",
     "text": [
      "Chi-Square Statistic: 20.000000000000004\n",
      "P-value: 0.22022064660169877\n",
      "Degrees of Freedom: 16\n",
      "Expected Frequencies:\n",
      " [[0.2 0.2 0.2 0.2 0.2]\n",
      " [0.2 0.2 0.2 0.2 0.2]\n",
      " [0.2 0.2 0.2 0.2 0.2]\n",
      " [0.2 0.2 0.2 0.2 0.2]\n",
      " [0.2 0.2 0.2 0.2 0.2]]\n",
      "Critical Value: 26.29622760486423\n"
     ]
    }
   ],
   "source": [
    "# Assignment Tasks:\n",
    "# 1. State the Hypotheses:\n",
    "# 2. Compute the Chi-Square Statistic:\n",
    "# 3. Determine the Critical Value:\n",
    "# Using the significance level (alpha) of 0.05 and the degrees of freedom\n",
    "\n",
    "import pandas as pd\n",
    "from scipy.stats import chi2_contingency\n",
    "\n",
    "# 1. State the Hypotheses:\n",
    "# Null Hypothesis (H0): There is no association between smart home device type and customer satisfaction.\n",
    "# Alternative Hypothesis (H1): There is an association between smart home device type and customer satisfaction.\n",
    "\n",
    "\n",
    "# Create a contingency table for the Chi-Square test.\n",
    "contingency_table = pd.crosstab(df['Satisfaction'], [df['Smart Thermostat'], df['Smart Light']])\n",
    "\n",
    "\n",
    "# 2. Compute the Chi-Square Statistic:\n",
    "chi2_stat, p, dof, expected = chi2_contingency(contingency_table)\n",
    "\n",
    "print(\"Chi-Square Statistic:\", chi2_stat)\n",
    "print(\"P-value:\", p)\n",
    "print(\"Degrees of Freedom:\", dof)\n",
    "print(\"Expected Frequencies:\\n\", expected)\n",
    "\n",
    "\n",
    "# 3. Determine the Critical Value:\n",
    "# Using a significance level (alpha) of 0.05 and the degrees of freedom calculated above.\n",
    "# We can use a chi-square distribution table to find the critical value.\n",
    "\n",
    "# However, we can also compare the calculated chi-square statistic to the critical value using Python:\n",
    "from scipy.stats import chi2\n",
    "\n",
    "alpha = 0.05\n",
    "critical_value = chi2.ppf(1 - alpha, dof)\n",
    "\n",
    "print(\"Critical Value:\", critical_value)"
   ]
  },
  {
   "cell_type": "code",
   "execution_count": 13,
   "id": "1c9f1ccf-1283-4fae-b355-8363ed807195",
   "metadata": {},
   "outputs": [
    {
     "name": "stdout",
     "output_type": "stream",
     "text": [
      "Fail to reject the null hypothesis.\n",
      "There is no statistically significant association between smart home device type and customer satisfaction.\n"
     ]
    }
   ],
   "source": [
    "# step 4 : Make a Decision according to that conclusion is given\n",
    "if chi2_stat > critical_value:\n",
    "  print(\"Reject the null hypothesis.\")\n",
    "  print(\"There is a statistically significant association between smart home device type and customer satisfaction.\")\n",
    "else:\n",
    "  print(\"Fail to reject the null hypothesis.\")\n",
    "  print(\"There is no statistically significant association between smart home device type and customer satisfaction.\")\n"
   ]
  },
  {
   "cell_type": "code",
   "execution_count": null,
   "id": "baa92b95-afe7-455e-af06-cf8c31e3cd8a",
   "metadata": {},
   "outputs": [],
   "source": []
  }
 ],
 "metadata": {
  "kernelspec": {
   "display_name": "Python 3 (ipykernel)",
   "language": "python",
   "name": "python3"
  },
  "language_info": {
   "codemirror_mode": {
    "name": "ipython",
    "version": 3
   },
   "file_extension": ".py",
   "mimetype": "text/x-python",
   "name": "python",
   "nbconvert_exporter": "python",
   "pygments_lexer": "ipython3",
   "version": "3.12.4"
  }
 },
 "nbformat": 4,
 "nbformat_minor": 5
}
